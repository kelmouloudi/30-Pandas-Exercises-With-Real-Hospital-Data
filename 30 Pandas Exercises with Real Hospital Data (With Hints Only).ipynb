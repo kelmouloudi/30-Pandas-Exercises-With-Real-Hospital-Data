{
 "cells": [
  {
   "cell_type": "markdown",
   "metadata": {},
   "source": [
    "# 30 Pandas Exercises With Real Hospital Data (With Hints & Solutions)<a id='erd'></a> "
   ]
  },
  {
   "cell_type": "markdown",
   "metadata": {},
   "source": [
    "![cover](https://i.ibb.co/WWBMJ46/cover1600.png)"
   ]
  },
  {
   "cell_type": "markdown",
   "metadata": {},
   "source": [
    "To see the proposed solutions, visit my [Medium article here]()."
   ]
  },
  {
   "cell_type": "markdown",
   "metadata": {},
   "source": [
    "## Importing Pandas:"
   ]
  },
  {
   "cell_type": "code",
   "execution_count": 1,
   "metadata": {},
   "outputs": [],
   "source": [
    "import pandas as pd"
   ]
  },
  {
   "cell_type": "markdown",
   "metadata": {},
   "source": [
    "The following optional cell applies some CSS formatting to Pandas dataframes to add more visual contrast between the indices and the data. It takes effect immediately after you run it. For more information, you can read my <u>[Medium article about it here](https://medium.com/analytics-vidhya/5-css-snippets-for-better-looking-pandas-dataframes-ad808e407894)</u>."
   ]
  },
  {
   "cell_type": "code",
   "execution_count": 2,
   "metadata": {},
   "outputs": [
    {
     "data": {
      "text/html": [
       "<style>.dataframe th{background:#3f577c;font-family:monospace;color:white;border:3px solid white;text-align:left !important;\n",
       "}.dataframe td{text-align:left;min-width:5em;}.column{column-count: 3;}</style>\n"
      ],
      "text/plain": [
       "<IPython.core.display.HTML object>"
      ]
     },
     "metadata": {},
     "output_type": "display_data"
    }
   ],
   "source": [
    "%%HTML\n",
    "<style>.dataframe th{background:#3f577c;font-family:monospace;color:white;border:3px solid white;text-align:left !important;\n",
    "}.dataframe td{text-align:left;min-width:5em;}.column{column-count: 3;}</style>"
   ]
  },
  {
   "cell_type": "markdown",
   "metadata": {},
   "source": [
    "If you don't like the CSS style, simply select the code inside of the cell, hit **`CTRL + /`** to turn it into a comment (or add **`#`** at the start of each line), and then run the cell."
   ]
  },
  {
   "cell_type": "markdown",
   "metadata": {},
   "source": [
    "---"
   ]
  },
  {
   "cell_type": "markdown",
   "metadata": {},
   "source": [
    "## The Data - Real Hospital Records: <a href=\"\" id=\"dataschema\"></a>"
   ]
  },
  {
   "cell_type": "markdown",
   "metadata": {},
   "source": [
    "#### <strong style=\"color:#85e468;font-size:100%\">⦿ </strong>Patients (974 records)"
   ]
  },
  {
   "cell_type": "code",
   "execution_count": 3,
   "metadata": {},
   "outputs": [],
   "source": [
    "patients = pd.read_csv('data/patients.csv')"
   ]
  },
  {
   "cell_type": "markdown",
   "metadata": {},
   "source": [
    "#### <strong style=\"color:#486ce3;font-size:100%\">⦿ </strong> Payers (10 records)"
   ]
  },
  {
   "cell_type": "code",
   "execution_count": 4,
   "metadata": {},
   "outputs": [],
   "source": [
    "payers = pd.read_csv('data/payers.csv')"
   ]
  },
  {
   "cell_type": "markdown",
   "metadata": {},
   "source": [
    "#### <strong style=\"color:#e45151;font-size:100%\">⦿ </strong> Encounters (27,891 records)"
   ]
  },
  {
   "cell_type": "code",
   "execution_count": 5,
   "metadata": {},
   "outputs": [],
   "source": [
    "encounters = pd.read_csv('data/encounters.csv')"
   ]
  },
  {
   "cell_type": "markdown",
   "metadata": {},
   "source": [
    "#### <strong style=\"color:#ca4fec;font-size:100%\">⦿ </strong> Procedures (47,701 records)"
   ]
  },
  {
   "cell_type": "code",
   "execution_count": 6,
   "metadata": {},
   "outputs": [],
   "source": [
    "procedures = pd.read_csv('data/procedures.csv')"
   ]
  },
  {
   "cell_type": "markdown",
   "metadata": {},
   "source": [
    "The following schema can help you get a sense of the data we will be working with."
   ]
  },
  {
   "cell_type": "markdown",
   "metadata": {},
   "source": [
    "![schema](https://i.ibb.co/GRz4v2d/schema.png)"
   ]
  },
  {
   "cell_type": "markdown",
   "metadata": {},
   "source": [
    "---"
   ]
  },
  {
   "cell_type": "markdown",
   "metadata": {},
   "source": [
    "## The Data Dictionary:"
   ]
  },
  {
   "cell_type": "markdown",
   "metadata": {},
   "source": [
    "The following is a data dictionary explaining what each dataframe and column/variable means:"
   ]
  },
  {
   "cell_type": "markdown",
   "metadata": {},
   "source": [
    "### <strong style=\"color:#85e468;font-size:100%\">⦿ </strong>Patients (974 records)"
   ]
  },
  {
   "cell_type": "code",
   "execution_count": 110,
   "metadata": {},
   "outputs": [
    {
     "data": {
      "text/html": [
       "<div>\n",
       "<style scoped>\n",
       "    .dataframe tbody tr th:only-of-type {\n",
       "        vertical-align: middle;\n",
       "    }\n",
       "\n",
       "    .dataframe tbody tr th {\n",
       "        vertical-align: top;\n",
       "    }\n",
       "\n",
       "    .dataframe thead th {\n",
       "        text-align: right;\n",
       "    }\n",
       "</style>\n",
       "<table border=\"1\" class=\"dataframe\">\n",
       "  <thead>\n",
       "    <tr style=\"text-align: right;\">\n",
       "      <th></th>\n",
       "      <th>PATIENT_ID</th>\n",
       "      <th>BIRTH_DATE</th>\n",
       "      <th>DEATH_DATE</th>\n",
       "      <th>FIRST_NAME</th>\n",
       "      <th>LAST_NAME</th>\n",
       "      <th>MARITAL</th>\n",
       "      <th>RACE</th>\n",
       "      <th>ETHNICITY</th>\n",
       "      <th>GENDER</th>\n",
       "      <th>BIRTHPLACE</th>\n",
       "      <th>PATIENT_ADDRESS</th>\n",
       "      <th>PATIENT_CITY</th>\n",
       "      <th>PATIENT_STATE</th>\n",
       "      <th>PATIENT_COUNTY</th>\n",
       "      <th>PATIENT_ZIP</th>\n",
       "      <th>LAT</th>\n",
       "      <th>LON</th>\n",
       "    </tr>\n",
       "  </thead>\n",
       "  <tbody>\n",
       "    <tr>\n",
       "      <th>0</th>\n",
       "      <td>5605b66b-e92d-c16c-1b83-b8bf7040d51f</td>\n",
       "      <td>3/19/1977</td>\n",
       "      <td>NaN</td>\n",
       "      <td>Nikita</td>\n",
       "      <td>Erdman</td>\n",
       "      <td>M</td>\n",
       "      <td>white</td>\n",
       "      <td>nonhispanic</td>\n",
       "      <td>F</td>\n",
       "      <td>Wakefield  Massachusetts  US</td>\n",
       "      <td>510 Little Station Unit 69</td>\n",
       "      <td>Quincy</td>\n",
       "      <td>Massachusetts</td>\n",
       "      <td>Norfolk County</td>\n",
       "      <td>2186.0</td>\n",
       "      <td>42.290937</td>\n",
       "      <td>-70.975503</td>\n",
       "    </tr>\n",
       "  </tbody>\n",
       "</table>\n",
       "</div>"
      ],
      "text/plain": [
       "                             PATIENT_ID BIRTH_DATE DEATH_DATE FIRST_NAME  \\\n",
       "0  5605b66b-e92d-c16c-1b83-b8bf7040d51f  3/19/1977        NaN     Nikita   \n",
       "\n",
       "  LAST_NAME MARITAL   RACE    ETHNICITY GENDER                    BIRTHPLACE  \\\n",
       "0    Erdman       M  white  nonhispanic      F  Wakefield  Massachusetts  US   \n",
       "\n",
       "              PATIENT_ADDRESS PATIENT_CITY  PATIENT_STATE  PATIENT_COUNTY  \\\n",
       "0  510 Little Station Unit 69       Quincy  Massachusetts  Norfolk County   \n",
       "\n",
       "   PATIENT_ZIP        LAT        LON  \n",
       "0       2186.0  42.290937 -70.975503  "
      ]
     },
     "execution_count": 110,
     "metadata": {},
     "output_type": "execute_result"
    }
   ],
   "source": [
    "patients.head(1)"
   ]
  },
  {
   "cell_type": "markdown",
   "metadata": {},
   "source": [
    "The Patients dataframe contains demographic information about individuals receiving care. Each entry in the dataframe represents a unique patient, identified by a primary key, PATIENT_ID. The dataframe includes details such as the patient's birth date, potential death date, name, marital status, race, ethnicity, gender, birthplace, and address information.\n",
    "\n",
    "<style>\n",
    ".table_component {\n",
    "    overflow: auto;\n",
    "    width: 100%;\n",
    "    text-align: left;\n",
    "}\n",
    "\n",
    ".table_component table {\n",
    "    height: 100%;\n",
    "    width: 100%;\n",
    "    table-layout: auto;\n",
    "    border-collapse: collapse;\n",
    "    border-spacing: 1px;\n",
    "    text-align: left;\n",
    "}\n",
    "\n",
    ".table_component caption {\n",
    "    caption-side: top;\n",
    "    text-align: left;\n",
    "}\n",
    "\n",
    ".table_component th {\n",
    "    border: 1px solid #dededf;\n",
    "    background-color: #eceff1;\n",
    "    color: #000000;\n",
    "    padding: 5px;\n",
    "    text-align: left;\n",
    "}\n",
    "\n",
    ".table_component td {\n",
    "    border: 1px solid #dededf;\n",
    "    background-color: #ffffff;\n",
    "    color: #000000;\n",
    "    padding: 5px;\n",
    "    text-align: left;\n",
    "}\n",
    "</style>\n",
    "\n",
    "<div class=\"table_component\" role=\"region\" tabindex=\"0\">\n",
    "<table style=\"border:solid 5px #85e468;\">\n",
    "    <caption>\n",
    "        <p></p>\n",
    "    </caption>\n",
    "    <thead>\n",
    "        <tr>\n",
    "            <th>Column/Attribute</th>\n",
    "            <th>Description</th>\n",
    "            <th>Example</th>\n",
    "        </tr>\n",
    "    </thead>\n",
    "    <tbody>\n",
    "        <tr>\n",
    "            <td>\n",
    "                <ul>\n",
    "                    <li><strong>PATIENT_ID</strong></li>\n",
    "                </ul>\n",
    "            </td>\n",
    "            <td>Primary Key. Unique Identifier of the patient &emsp; &emsp; &emsp; &emsp; &emsp; &emsp; &emsp; &emsp; &emsp; &emsp; &emsp; &emsp; &emsp; &emsp; &emsp; &emsp; &emsp; &emsp; &emsp; &emsp; &emsp; &emsp; &emsp; &emsp; &emsp; &emsp; &emsp;</td>\n",
    "            <td>\n",
    "                <div>f96addf5-81b9-0aab-7855-d208d3d352c5 &emsp; &emsp; &emsp; &emsp; &emsp; &emsp; &emsp; &emsp; &emsp; &emsp; &emsp; &emsp; &emsp; &emsp; &emsp; &emsp; &emsp; &emsp; &emsp; &emsp; &emsp; &emsp; &emsp; &emsp; &emsp; &emsp; &emsp;</div>\n",
    "            </td>\n",
    "        </tr>\n",
    "        <tr>\n",
    "            <td>\n",
    "                <ul>\n",
    "                    <li><strong>BIRTH_DATE</strong></li>\n",
    "                </ul>\n",
    "            </td>\n",
    "            <td>The date the patient was born (YYYY-MM-DD)</td>\n",
    "            <td>\n",
    "                <div>12/25/1928</div>\n",
    "            </td>\n",
    "        </tr>\n",
    "        <tr>\n",
    "            <td>\n",
    "                <ul>\n",
    "                    <li><strong>DEATH_DATE</strong></li>\n",
    "                </ul>\n",
    "            </td>\n",
    "            <td>The date the patient died (YYYY-MM-DD)</td>\n",
    "            <td>\n",
    "                <div>2/23/2014</div>\n",
    "            </td>\n",
    "        </tr>\n",
    "        <tr>\n",
    "            <td>\n",
    "                <ul>\n",
    "                    <li><strong>FIRST_NAME</strong></li>\n",
    "                </ul>\n",
    "            </td>\n",
    "            <td>First name of the patient</td>\n",
    "            <td>\n",
    "                <div>Edwin</div>\n",
    "            </td>\n",
    "        </tr>\n",
    "        <tr>\n",
    "            <td>\n",
    "                <ul>\n",
    "                    <li><strong>LAST_NAME</strong></li>\n",
    "                </ul>\n",
    "            </td>\n",
    "            <td>Last or surname of the patient</td>\n",
    "            <td>\n",
    "                <div>Labadie</div>\n",
    "            </td>\n",
    "        </tr>\n",
    "        <tr>\n",
    "            <td>\n",
    "                <ul>\n",
    "                    <li><strong>MARITAL</strong></li>\n",
    "                </ul>\n",
    "            </td>\n",
    "            <td>Marital Status. M is married, S is single</td>\n",
    "            <td>\n",
    "                <div>M</div>\n",
    "            </td>\n",
    "        </tr>\n",
    "        <tr>\n",
    "            <td>\n",
    "                <ul>\n",
    "                    <li><strong>RACE</strong></li>\n",
    "                </ul>\n",
    "            </td>\n",
    "            <td>Description of the patient's primary race</td>\n",
    "            <td>\n",
    "                <div>white</div>\n",
    "            </td>\n",
    "        </tr>\n",
    "        <tr>\n",
    "            <td>\n",
    "                <ul>\n",
    "                    <li><strong>ETHNICITY</strong></li>\n",
    "                </ul>\n",
    "            </td>\n",
    "            <td>Description of the patient's primary ethnicity</td>\n",
    "            <td>\n",
    "                <div>hispanic</div>\n",
    "            </td>\n",
    "        </tr>\n",
    "        <tr>\n",
    "            <td>\n",
    "                <ul>\n",
    "                    <li><strong>GENDER</strong></li>\n",
    "                </ul>\n",
    "            </td>\n",
    "            <td>Gender. M is male, F is female</td>\n",
    "            <td>\n",
    "                <div>M</div>\n",
    "            </td>\n",
    "        </tr>\n",
    "        <tr>\n",
    "            <td>\n",
    "                <ul>\n",
    "                    <li><strong>BIRTHPLACE</strong></li>\n",
    "                </ul>\n",
    "            </td>\n",
    "            <td>Name of the town where the patient was born</td>\n",
    "            <td>\n",
    "                <div>Stow Massachusetts US</div>\n",
    "            </td>\n",
    "        </tr>\n",
    "        <tr>\n",
    "            <td>\n",
    "                <ul>\n",
    "                    <li><strong>PATIENT_ADDRESS</strong></li>\n",
    "                </ul>\n",
    "            </td>\n",
    "            <td>Patient's street address without commas or newlines</td>\n",
    "            <td>\n",
    "                <div>976 Ziemann Gateway</div>\n",
    "            </td>\n",
    "        </tr>\n",
    "        <tr>\n",
    "            <td>\n",
    "                <ul>\n",
    "                    <li><strong>PATIENT_CITY</strong></li>\n",
    "                </ul>\n",
    "            </td>\n",
    "            <td>Patient's address city</td>\n",
    "            <td>\n",
    "                <div>Boston</div>\n",
    "            </td>\n",
    "        </tr>\n",
    "        <tr>\n",
    "            <td>\n",
    "                <ul>\n",
    "                    <li><strong>PATIENT_STATE</strong></li>\n",
    "                </ul>\n",
    "            </td>\n",
    "            <td>Patient's address state</td>\n",
    "            <td>\n",
    "                <div>Massachusetts</div>\n",
    "            </td>\n",
    "        </tr>\n",
    "        <tr>\n",
    "            <td>\n",
    "                <ul>\n",
    "                    <li><strong>PATIENT_COUNTY</strong></li>\n",
    "                </ul>\n",
    "            </td>\n",
    "            <td>Patient's address county</td>\n",
    "            <td>\n",
    "                <div>Suffolk County</div>\n",
    "            </td>\n",
    "        </tr>\n",
    "        <tr>\n",
    "            <td>\n",
    "                <ul>\n",
    "                    <li><strong>PATIENT_ZIP</strong></li>\n",
    "                </ul>\n",
    "            </td>\n",
    "            <td>Patient's zip code</td>\n",
    "            <td>\n",
    "                <div>2125</div>\n",
    "            </td>\n",
    "        </tr>\n",
    "        <tr>\n",
    "            <td>\n",
    "                <ul>\n",
    "                    <li><strong>LAT</strong></li>\n",
    "                </ul>\n",
    "            </td>\n",
    "            <td>Latitude of Patient's address</td>\n",
    "            <td>\n",
    "                <div>42.3467714</div>\n",
    "            </td>\n",
    "        </tr>\n",
    "        <tr>\n",
    "            <td>\n",
    "                <ul>\n",
    "                    <li><strong>LON</strong></li>\n",
    "                </ul>\n",
    "            </td>\n",
    "            <td>Longitude of Patient's address</td>\n",
    "            <td>\n",
    "                <div>-71.05881297</div>\n",
    "            </td>\n",
    "        </tr>\n",
    "    </tbody>\n",
    "</table>\n",
    "</div>"
   ]
  },
  {
   "cell_type": "markdown",
   "metadata": {},
   "source": [
    "### <strong style=\"color:#486ce3;font-size:100%\">⦿ </strong> Payers (10 records) <a href=\"\" id=\"#payersdict\"></a>\n"
   ]
  },
  {
   "cell_type": "code",
   "execution_count": 111,
   "metadata": {},
   "outputs": [
    {
     "data": {
      "text/html": [
       "<div>\n",
       "<style scoped>\n",
       "    .dataframe tbody tr th:only-of-type {\n",
       "        vertical-align: middle;\n",
       "    }\n",
       "\n",
       "    .dataframe tbody tr th {\n",
       "        vertical-align: top;\n",
       "    }\n",
       "\n",
       "    .dataframe thead th {\n",
       "        text-align: right;\n",
       "    }\n",
       "</style>\n",
       "<table border=\"1\" class=\"dataframe\">\n",
       "  <thead>\n",
       "    <tr style=\"text-align: right;\">\n",
       "      <th></th>\n",
       "      <th>PAYER_ID</th>\n",
       "      <th>PAYER_NAME</th>\n",
       "      <th>PAYER_ADDRESS</th>\n",
       "      <th>PAYER_CITY</th>\n",
       "      <th>STATE_HEADQUARTERED</th>\n",
       "      <th>PAYER_ZIP</th>\n",
       "      <th>PAYER_PHONE</th>\n",
       "    </tr>\n",
       "  </thead>\n",
       "  <tbody>\n",
       "    <tr>\n",
       "      <th>0</th>\n",
       "      <td>b3221cfc-24fb-339e-823d-bc4136cbc4ed</td>\n",
       "      <td>Dual Eligible</td>\n",
       "      <td>7500 Security Blvd</td>\n",
       "      <td>Baltimore</td>\n",
       "      <td>MD</td>\n",
       "      <td>21244.0</td>\n",
       "      <td>1-877-267-2323</td>\n",
       "    </tr>\n",
       "  </tbody>\n",
       "</table>\n",
       "</div>"
      ],
      "text/plain": [
       "                               PAYER_ID     PAYER_NAME       PAYER_ADDRESS  \\\n",
       "0  b3221cfc-24fb-339e-823d-bc4136cbc4ed  Dual Eligible  7500 Security Blvd   \n",
       "\n",
       "  PAYER_CITY STATE_HEADQUARTERED  PAYER_ZIP     PAYER_PHONE  \n",
       "0  Baltimore                  MD    21244.0  1-877-267-2323  "
      ]
     },
     "execution_count": 111,
     "metadata": {},
     "output_type": "execute_result"
    }
   ],
   "source": [
    "payers.head(1)"
   ]
  },
  {
   "cell_type": "markdown",
   "metadata": {},
   "source": [
    "The Payers dataframe lists entities responsible for covering healthcare costs, such as insurance companies. Each payer is uniquely identified by the PAYER_ID. The dataframe provides the name of the payer, their street address, city, state abbreviation, zip code, and phone number.\n",
    "\n",
    "<div class=\"table_component\" role=\"region\" tabindex=\"0\">\n",
    "<table style=\"border:solid 5px #486ce3;\">\n",
    "    <caption>\n",
    "        <p></p>\n",
    "    </caption>\n",
    "    <thead>\n",
    "        <tr>\n",
    "            <th>Column/Attribute</th>\n",
    "            <th>Description</th>\n",
    "            <th>Example</th>\n",
    "        </tr>\n",
    "    </thead>\n",
    "    <tbody>\n",
    "        <tr>\n",
    "            <td>\n",
    "                <ul>\n",
    "                    <li><strong>PAYER_ID</strong></li>\n",
    "                </ul>\n",
    "            </td>\n",
    "            <td>Primary key of the Payer (e.g. Insurance)</td>\n",
    "            <td>\n",
    "                <div>b3221cfc-24fb-339e-823d-bc4136cbc4ed</div>\n",
    "            </td>\n",
    "        </tr>\n",
    "        <tr>\n",
    "            <td>\n",
    "                <ul>\n",
    "                    <li><strong>PAYER_NAME</strong></li>\n",
    "                </ul>\n",
    "            </td>\n",
    "            <td>Name of the Payer</td>\n",
    "            <td>\n",
    "                <div>Dual Eligible</div>\n",
    "            </td>\n",
    "        </tr>\n",
    "        <tr>\n",
    "            <td>\n",
    "                <ul>\n",
    "                    <li><strong>PAYER_ADDRESS</strong></li>\n",
    "                </ul>\n",
    "            </td>\n",
    "            <td>Payer's street address without commas or newlines &emsp; &emsp; &emsp; &emsp; &emsp; &emsp; &emsp; &emsp; &emsp; &emsp; &emsp; &emsp; &emsp; &emsp; &emsp; &emsp; &emsp; &emsp; &emsp; &emsp; &emsp; &emsp; &emsp; &emsp; &emsp; &emsp; &emsp;</td>\n",
    "            <td>\n",
    "                <div>7500 Security Blvd &emsp; &emsp; &emsp; &emsp; &emsp; &emsp; &emsp; &emsp; &emsp; &emsp; &emsp; &emsp; &emsp; &emsp; &emsp; &emsp; &emsp; &emsp; &emsp; &emsp; &emsp; &emsp; &emsp; &emsp; &emsp; &emsp; &emsp;</div>\n",
    "            </td>\n",
    "        </tr>\n",
    "        <tr>\n",
    "            <td>\n",
    "                <ul>\n",
    "                    <li><strong>PAYER_CITY</strong></li>\n",
    "                </ul>\n",
    "            </td>\n",
    "            <td> Street address city</td>\n",
    "            <td>\n",
    "                <div>Baltimore</div>\n",
    "            </td>\n",
    "        </tr>\n",
    "        <tr>\n",
    "            <td>\n",
    "                <ul>\n",
    "                    <li><strong>STATE_HEADQUARTERED</strong></li>\n",
    "                </ul>\n",
    "            </td>\n",
    "            <td>Street address state abbreviation</td>\n",
    "            <td>\n",
    "                <div>MD</div>\n",
    "            </td>\n",
    "        </tr>\n",
    "        <tr>\n",
    "            <td>\n",
    "                <ul>\n",
    "                    <li><strong>PAYER_ZIP</strong></li>\n",
    "                </ul>\n",
    "            </td>\n",
    "            <td>Street address zip or postal code</td>\n",
    "            <td>\n",
    "                <div>21244</div>\n",
    "            </td>\n",
    "        </tr>\n",
    "        <tr>\n",
    "            <td>\n",
    "                <ul>\n",
    "                    <li><strong>PAYER_PHONE</strong></li>\n",
    "                </ul>\n",
    "            </td>\n",
    "            <td>Payer's phone number</td>\n",
    "            <td>\n",
    "                <div>1-877-267-2323</div>\n",
    "            </td>\n",
    "        </tr>\n",
    "    </tbody>\n",
    "</table>\n",
    "</div>"
   ]
  },
  {
   "cell_type": "markdown",
   "metadata": {},
   "source": [
    "### <strong style=\"color:#e45151;font-size:100%\">⦿ </strong> Encounters (27,891 records)"
   ]
  },
  {
   "cell_type": "code",
   "execution_count": 103,
   "metadata": {},
   "outputs": [
    {
     "data": {
      "text/html": [
       "<div>\n",
       "<style scoped>\n",
       "    .dataframe tbody tr th:only-of-type {\n",
       "        vertical-align: middle;\n",
       "    }\n",
       "\n",
       "    .dataframe tbody tr th {\n",
       "        vertical-align: top;\n",
       "    }\n",
       "\n",
       "    .dataframe thead th {\n",
       "        text-align: right;\n",
       "    }\n",
       "</style>\n",
       "<table border=\"1\" class=\"dataframe\">\n",
       "  <thead>\n",
       "    <tr style=\"text-align: right;\">\n",
       "      <th></th>\n",
       "      <th>ENCOUNTER_ID</th>\n",
       "      <th>PATIENT_ID</th>\n",
       "      <th>PAYER_ID</th>\n",
       "      <th>ENCOUNTER_START</th>\n",
       "      <th>ENCOUNTER_STOP</th>\n",
       "      <th>ENCOUNTER_CLASS</th>\n",
       "      <th>ENCOUNTER_CODE</th>\n",
       "      <th>ENCOUNTER_DESCRIPTION</th>\n",
       "      <th>ENCOUNTER_BASE_COST</th>\n",
       "      <th>TOTAL_CLAIM_COST</th>\n",
       "      <th>PAYER_COVERAGE</th>\n",
       "      <th>ENCOUNTER_REASON_CODE</th>\n",
       "      <th>ENCOUNTER_REASON_DESCRIPTION</th>\n",
       "    </tr>\n",
       "  </thead>\n",
       "  <tbody>\n",
       "    <tr>\n",
       "      <th>0</th>\n",
       "      <td>32c84703-2481-49cd-d571-3899d5820253</td>\n",
       "      <td>3de74169-7f67-9304-91d4-757e0f3a14d2</td>\n",
       "      <td>b1c428d6-4f07-31e0-90f0-68ffa6ff8c76</td>\n",
       "      <td>2011-01-02T09:26:36Z</td>\n",
       "      <td>2011-01-02T12:58:36Z</td>\n",
       "      <td>ambulatory</td>\n",
       "      <td>185347001</td>\n",
       "      <td>Encounter for problem (procedure)</td>\n",
       "      <td>85.55</td>\n",
       "      <td>1018.02</td>\n",
       "      <td>0.0</td>\n",
       "      <td>NaN</td>\n",
       "      <td>NaN</td>\n",
       "    </tr>\n",
       "  </tbody>\n",
       "</table>\n",
       "</div>"
      ],
      "text/plain": [
       "                           ENCOUNTER_ID                            PATIENT_ID  \\\n",
       "0  32c84703-2481-49cd-d571-3899d5820253  3de74169-7f67-9304-91d4-757e0f3a14d2   \n",
       "\n",
       "                               PAYER_ID       ENCOUNTER_START  \\\n",
       "0  b1c428d6-4f07-31e0-90f0-68ffa6ff8c76  2011-01-02T09:26:36Z   \n",
       "\n",
       "         ENCOUNTER_STOP ENCOUNTER_CLASS  ENCOUNTER_CODE  \\\n",
       "0  2011-01-02T12:58:36Z      ambulatory       185347001   \n",
       "\n",
       "               ENCOUNTER_DESCRIPTION  ENCOUNTER_BASE_COST  TOTAL_CLAIM_COST  \\\n",
       "0  Encounter for problem (procedure)                85.55           1018.02   \n",
       "\n",
       "   PAYER_COVERAGE  ENCOUNTER_REASON_CODE ENCOUNTER_REASON_DESCRIPTION  \n",
       "0             0.0                    NaN                          NaN  "
      ]
     },
     "execution_count": 103,
     "metadata": {},
     "output_type": "execute_result"
    }
   ],
   "source": [
    "encounters.head(1)"
   ]
  },
  {
   "cell_type": "markdown",
   "metadata": {},
   "source": [
    "The Encounters dataframe records interactions between patients and the hospital providing healthcare. Each encounter is uniquely identified by an ENCOUNTER_ID. The dataframe includes foreign keys linking to the corresponding patient (PATIENT_ID) and payer (PAYER_ID). It documents the start and stop times of the encounter, the class and description of the encounter, associated codes from SNOMED-CT, the base and total costs of the encounter, payer coverage, and any specific reasons for the encounter identified by diagnosis codes and descriptions.\n",
    "\n",
    "<div class=\"table_component\" role=\"region\" tabindex=\"0\">\n",
    "<table style=\"border:solid 5px #e45151;\">\n",
    "    <caption>\n",
    "        <p></p>\n",
    "    </caption>\n",
    "    <thead>\n",
    "        <tr>\n",
    "            <th>Column/Attribute</th>\n",
    "            <th>Description</th>\n",
    "            <th>Example</th>\n",
    "        </tr>\n",
    "    </thead>\n",
    "    <tbody>\n",
    "        <tr>\n",
    "            <td>\n",
    "                <ul>\n",
    "                    <li><strong>ENCOUNTER_ID</strong></li>\n",
    "                </ul>\n",
    "            </td>\n",
    "            <td>Primary Key. Unique Identifier of the encounter</td>\n",
    "            <td>\n",
    "                <div>5c504a86-1804-ed37-53ce-32f3d3318ad5</div>\n",
    "            </td>\n",
    "        </tr>\n",
    "        <tr>\n",
    "            <td>\n",
    "                <ul>\n",
    "                    <li><strong>PATIENT_ID</strong></li>\n",
    "                </ul>\n",
    "            </td>\n",
    "            <td>Foreign key to the Patient</td>\n",
    "            <td>\n",
    "                <div>8fe3348d-477f-541e-96df-bbe5b552104f</div>\n",
    "            </td>\n",
    "        </tr>\n",
    "        <tr>\n",
    "            <td>\n",
    "                <ul>\n",
    "                    <li><strong>PAYER_ID</strong></li>\n",
    "                </ul>\n",
    "            </td>\n",
    "            <td>Foreign key to the Payer</td>\n",
    "            <td>\n",
    "                <div>7c4411ce-02f1-39b5-b9ec-dfbea9ad3c1a</div>\n",
    "            </td>\n",
    "        </tr>\n",
    "        <tr>\n",
    "            <td>\n",
    "                <ul>\n",
    "                    <li><strong>ENCOUNTER_START</strong></li>\n",
    "                </ul>\n",
    "            </td>\n",
    "            <td> The date and time the encounter started (iso8601 UTC Date (yyyy-MM-dd'T'HH:mm'Z'))</td>\n",
    "            <td>\n",
    "                <div>2011-01-13T15:41:08Z</div>\n",
    "            </td>\n",
    "        </tr>\n",
    "        <tr>\n",
    "            <td>\n",
    "                <ul>\n",
    "                    <li><strong>ENCOUNTER_STOP</strong></li>\n",
    "                </ul>\n",
    "            </td>\n",
    "            <td>The date and time the encounter concluded (iso8601 UTC Date (yyyy-MM-dd'T'HH:mm'Z'))</td>\n",
    "            <td>\n",
    "                <div>2011-01-13T15:56:08Z</div>\n",
    "            </td>\n",
    "        </tr>\n",
    "        <tr>\n",
    "            <td>\n",
    "                <ul>\n",
    "                    <li><strong>ENCOUNTER_CLASS</strong></li>\n",
    "                </ul>\n",
    "            </td>\n",
    "            <td>The class of the encounter, such as ambulatory, emergency, inpatient, wellness, or urgent care</td>\n",
    "            <td>\n",
    "                <div>ambulatory</div>\n",
    "            </td>\n",
    "        </tr>\n",
    "        <tr>\n",
    "            <td>\n",
    "                <ul>\n",
    "                    <li><strong>ENCOUNTER_CODE</strong></li>\n",
    "                </ul>\n",
    "            </td>\n",
    "            <td>Encounter code from SNOMED-CT</td>\n",
    "            <td>\n",
    "                <div>424619006</div>\n",
    "            </td>\n",
    "        </tr>\n",
    "        <tr>\n",
    "            <td>\n",
    "                <ul>\n",
    "                    <li><strong>ENCOUNTER_DESCRIPTION</strong></li>\n",
    "                </ul>\n",
    "            </td>\n",
    "            <td>Description of the type of encounter</td>\n",
    "            <td>\n",
    "                <div>Prenatal visit</div>\n",
    "            </td>\n",
    "        </tr>\n",
    "        <tr>\n",
    "            <td>\n",
    "                <ul>\n",
    "                    <li><strong>ENCOUNTER_BASE_COST</strong></li>\n",
    "                </ul>\n",
    "            </td>\n",
    "            <td>The base cost of the encounter, not including any line item costs related to medications, immunizations, procedures, or other services</td>\n",
    "            <td>\n",
    "                <div>142.58</div>\n",
    "            </td>\n",
    "        </tr>\n",
    "        <tr>\n",
    "            <td>\n",
    "                <ul>\n",
    "                    <li><strong>TOTAL_CLAIM_COST</strong></li>\n",
    "                </ul>\n",
    "            </td>\n",
    "            <td>The total cost of the encounter, including all line items</td>\n",
    "            <td>\n",
    "                <div>13281.55</div>\n",
    "            </td>\n",
    "        </tr>\n",
    "        <tr>\n",
    "            <td>\n",
    "                <ul>\n",
    "                    <li><strong>PAYER_COVERAGE</strong></li>\n",
    "                </ul>\n",
    "            </td>\n",
    "            <td>The amount of cost covered by the Payer</td>\n",
    "            <td>\n",
    "                <div>12560.47</div>\n",
    "            </td>\n",
    "        </tr>\n",
    "        <tr>\n",
    "            <td>\n",
    "                <ul>\n",
    "                    <li><strong>ENCOUNTER_REASON_CODE</strong></li>\n",
    "                </ul>\n",
    "            </td>\n",
    "            <td>Diagnosis code from SNOMED-CT, only if this encounter targeted a specific condition</td>\n",
    "            <td>\n",
    "                <div>72892002</div>\n",
    "            </td>\n",
    "        </tr>\n",
    "        <tr>\n",
    "            <td>\n",
    "                <ul>\n",
    "                    <li><strong>ENCOUNTER_REASON_DESCRIPTION</strong></li>\n",
    "                </ul>\n",
    "            </td>\n",
    "            <td>Description of the reason code</td>\n",
    "            <td>\n",
    "                <div>Normal pregnancy</div>\n",
    "            </td>\n",
    "        </tr>\n",
    "    </tbody>\n",
    "</table>\n",
    "</div>"
   ]
  },
  {
   "cell_type": "markdown",
   "metadata": {},
   "source": [
    "### <strong style=\"color:#ca4fec;font-size:100%\">⦿ </strong> Procedures (47,701 records)"
   ]
  },
  {
   "cell_type": "code",
   "execution_count": 104,
   "metadata": {},
   "outputs": [
    {
     "data": {
      "text/html": [
       "<div>\n",
       "<style scoped>\n",
       "    .dataframe tbody tr th:only-of-type {\n",
       "        vertical-align: middle;\n",
       "    }\n",
       "\n",
       "    .dataframe tbody tr th {\n",
       "        vertical-align: top;\n",
       "    }\n",
       "\n",
       "    .dataframe thead th {\n",
       "        text-align: right;\n",
       "    }\n",
       "</style>\n",
       "<table border=\"1\" class=\"dataframe\">\n",
       "  <thead>\n",
       "    <tr style=\"text-align: right;\">\n",
       "      <th></th>\n",
       "      <th>PATIENT_ID</th>\n",
       "      <th>ENCOUNTER_ID</th>\n",
       "      <th>PROCEDURE_START</th>\n",
       "      <th>PROCEDURE_STOP</th>\n",
       "      <th>PROCEDURE_CODE</th>\n",
       "      <th>PROCEDURE_DESCRIPTION</th>\n",
       "      <th>PROCEDURE_BASE_COST</th>\n",
       "      <th>PROCEDURE_REASON_CODE</th>\n",
       "      <th>PROCEDURE_REASON_DESCRIPTION</th>\n",
       "    </tr>\n",
       "  </thead>\n",
       "  <tbody>\n",
       "    <tr>\n",
       "      <th>0</th>\n",
       "      <td>3de74169-7f67-9304-91d4-757e0f3a14d2</td>\n",
       "      <td>32c84703-2481-49cd-d571-3899d5820253</td>\n",
       "      <td>2011-01-02T09:26:36Z</td>\n",
       "      <td>2011-01-02T12:58:36Z</td>\n",
       "      <td>265764009.0</td>\n",
       "      <td>Renal dialysis (procedure)</td>\n",
       "      <td>903</td>\n",
       "      <td>NaN</td>\n",
       "      <td>NaN</td>\n",
       "    </tr>\n",
       "  </tbody>\n",
       "</table>\n",
       "</div>"
      ],
      "text/plain": [
       "                             PATIENT_ID                          ENCOUNTER_ID  \\\n",
       "0  3de74169-7f67-9304-91d4-757e0f3a14d2  32c84703-2481-49cd-d571-3899d5820253   \n",
       "\n",
       "        PROCEDURE_START        PROCEDURE_STOP  PROCEDURE_CODE  \\\n",
       "0  2011-01-02T09:26:36Z  2011-01-02T12:58:36Z     265764009.0   \n",
       "\n",
       "        PROCEDURE_DESCRIPTION  PROCEDURE_BASE_COST  PROCEDURE_REASON_CODE  \\\n",
       "0  Renal dialysis (procedure)                  903                    NaN   \n",
       "\n",
       "  PROCEDURE_REASON_DESCRIPTION  \n",
       "0                          NaN  "
      ]
     },
     "execution_count": 104,
     "metadata": {},
     "output_type": "execute_result"
    }
   ],
   "source": [
    "procedures.head(1)"
   ]
  },
  {
   "attachments": {},
   "cell_type": "markdown",
   "metadata": {},
   "source": [
    "The Procedures dataframe details medical procedures performed on patients during encounters. Each procedure is linked to a specific patient (PATIENT_ID) and encounter (ENCOUNTER_ID). The dataframe includes the start and stop times of the procedure, the procedure code and description from SNOMED-CT, the base cost of the procedure, and any reasons for the procedure identified by diagnosis codes and descriptions.\n",
    "\n",
    "<div class=\"table_component\" role=\"region\" tabindex=\"0\">\n",
    "<table style=\"border:solid 5px #ca4fec;\">\n",
    "    <caption>\n",
    "        <p></p>\n",
    "    </caption>\n",
    "    <thead>\n",
    "        <tr>\n",
    "            <th>Column/Attribute</th>\n",
    "            <th>Description</th>\n",
    "            <th>Example</th>\n",
    "        </tr>\n",
    "    </thead>\n",
    "    <tbody>\n",
    "        <tr>\n",
    "            <td>\n",
    "                <ul>\n",
    "                    <li><strong>PATIENT_ID</strong></li>\n",
    "                </ul>\n",
    "            </td>\n",
    "            <td>Foreign key to the Patient</td>\n",
    "            <td>\n",
    "                <div>8fe3348d-477f-541e-96df-bbe5b552104f</div>\n",
    "            </td>\n",
    "        </tr>\n",
    "        <tr>\n",
    "            <td>\n",
    "                <ul>\n",
    "                    <li><strong>ENCOUNTER_ID</strong></li>\n",
    "                </ul>\n",
    "            </td>\n",
    "            <td>Foreign key to the Encounter where the procedure was performed</td>\n",
    "            <td>\n",
    "                <div>5c504a86-1804-ed37-53ce-32f3d3318ad5</div>\n",
    "            </td>\n",
    "        </tr>\n",
    "        <tr>\n",
    "            <td>\n",
    "                <ul>\n",
    "                    <li><strong>PROCEDURE_START</strong></li>\n",
    "                </ul>\n",
    "            </td>\n",
    "            <td>The date and time the procedure was performed (iso8601 UTC Date (yyyy-MM-dd'T'HH:mm'Z'))</td>\n",
    "            <td>\n",
    "                <div>2011-01-13T15:41:08Z</div>\n",
    "            </td>\n",
    "        </tr>\n",
    "        <tr>\n",
    "            <td>\n",
    "                <ul>\n",
    "                    <li><strong>PROCEDURE_STOP</strong></li>\n",
    "                </ul>\n",
    "            </td>\n",
    "            <td> The date and time the procedure was completed, if applicable (iso8601 UTC Date (yyyy-MM-dd'T'HH:mm'Z'))</td>\n",
    "            <td>\n",
    "                <div>2011-01-13T15:56:08Z</div>\n",
    "            </td>\n",
    "        </tr>\n",
    "        <tr>\n",
    "            <td>\n",
    "                <ul>\n",
    "                    <li><strong>PROCEDURE_CODE</strong></li>\n",
    "                </ul>\n",
    "            </td>\n",
    "            <td>Procedure code from SNOMED-CT</td>\n",
    "            <td>\n",
    "                <div>274804006</div>\n",
    "            </td>\n",
    "        </tr>\n",
    "        <tr>\n",
    "            <td>\n",
    "                <ul>\n",
    "                    <li><strong>PROCEDURE_DESCRIPTION</strong></li>\n",
    "                </ul>\n",
    "            </td>\n",
    "            <td>Description of the procedure</td>\n",
    "            <td>\n",
    "                <div>Evaluation of uterine fundal height</div>\n",
    "            </td>\n",
    "        </tr>\n",
    "        <tr>\n",
    "            <td>\n",
    "                <ul>\n",
    "                    <li><strong>PROCEDURE_BASE_COST</strong></li>\n",
    "                </ul>\n",
    "            </td>\n",
    "            <td>The line-item cost of the procedure</td>\n",
    "            <td>\n",
    "                <div>3632</div>\n",
    "            </td>\n",
    "        </tr>\n",
    "        <tr>\n",
    "            <td>\n",
    "                <ul>\n",
    "                    <li><strong>PROCEDURE_REASON_CODE</strong></li>\n",
    "                </ul>\n",
    "            </td>\n",
    "            <td>Diagnosis code from SNOMED-CT specifying why this procedure was performed</td>\n",
    "            <td>\n",
    "                <div>72892002</div>\n",
    "            </td>\n",
    "        </tr>\n",
    "        <tr>\n",
    "            <td>\n",
    "                <ul>\n",
    "                    <li><strong>PROCEDURE_REASON_DESCRIPTION</strong></li>\n",
    "                </ul>\n",
    "            </td>\n",
    "            <td>Description of the reason code</td>\n",
    "            <td>\n",
    "                <div>Normal pregnancy</div>\n",
    "            </td>\n",
    "        </tr>\n",
    "    </tbody>\n",
    "</table>\n",
    "</div>"
   ]
  },
  {
   "cell_type": "markdown",
   "metadata": {},
   "source": [
    "Next, you will receive emails asking you to query the data and answer questions."
   ]
  },
  {
   "cell_type": "markdown",
   "metadata": {},
   "source": [
    "---"
   ]
  },
  {
   "cell_type": "markdown",
   "metadata": {},
   "source": [
    "## Exercise 1: Payers data"
   ]
  },
  {
   "cell_type": "markdown",
   "metadata": {},
   "source": [
    "![](https://i.ibb.co/zFwqyyX/email.png) **New email received**\n",
    "\n",
    "<div style=\"border: dashed 3px red; border-left: solid 6px red; padding: 30px\">\n",
    "Hi,<br/><br/>\n",
    "\n",
    "I know you're new with us, but I'm sure you'll do great. I need you to pull up **all the information** we have on the \n",
    "<span style=\"background-color:#486ce3;color:white;padding: 0 5px 2px;padding-right:5px;line-height:1em\">payers</span> and insurance companies. Thanks!\n",
    "\n",
    "**Marla**<br/>\n",
    "Accountant</div>"
   ]
  },
  {
   "cell_type": "markdown",
   "metadata": {},
   "source": [
    "* <acronym title='In Pandas, to show the full Dataframe, you simply use its name'>HINT</acronym>"
   ]
  },
  {
   "cell_type": "markdown",
   "metadata": {},
   "source": [
    "Write your answer here:"
   ]
  },
  {
   "cell_type": "code",
   "execution_count": null,
   "metadata": {},
   "outputs": [],
   "source": []
  },
  {
   "cell_type": "markdown",
   "metadata": {},
   "source": [
    "---"
   ]
  },
  {
   "cell_type": "markdown",
   "metadata": {},
   "source": [
    "## Exercise 2: Payer contact info"
   ]
  },
  {
   "cell_type": "markdown",
   "metadata": {},
   "source": [
    "![](https://i.ibb.co/zFwqyyX/email.png) **New email received**\n",
    "\n",
    "<div style=\"border: dashed 3px red; border-left: solid 6px red; padding: 30px\">\n",
    "Hello,<br/><br/>\n",
    "\n",
    "I'm preparing a contact info sheet for the\n",
    "<span style=\"background-color:#486ce3;color:white;padding: 0 5px 2px;padding-right:5px;line-height:1em\">payers</span> and insurance companies. The only columns I'll need are **names**, **cities**, and **phone numbers**. Thank you in advance.\n",
    "\n",
    "**Barbara**<br/>\n",
    "PR and communications specialist</div>"
   ]
  },
  {
   "cell_type": "markdown",
   "metadata": {},
   "source": [
    "* <acronym title=\"The syntax for only showing specific columns is Dataframe[['ColumnName1', 'ColumnName2']]\">HINT</acronym>"
   ]
  },
  {
   "cell_type": "markdown",
   "metadata": {},
   "source": [
    "Write your answer here:"
   ]
  },
  {
   "cell_type": "code",
   "execution_count": null,
   "metadata": {},
   "outputs": [],
   "source": []
  },
  {
   "cell_type": "markdown",
   "metadata": {},
   "source": [
    "---"
   ]
  },
  {
   "cell_type": "markdown",
   "metadata": {},
   "source": [
    "## Exercise 3: Sample of three patients and top three payers"
   ]
  },
  {
   "cell_type": "markdown",
   "metadata": {},
   "source": [
    "![](https://i.ibb.co/zFwqyyX/email.png) **New email received**\n",
    "\n",
    "<div style=\"border: dashed 3px red; border-left: solid 6px red; padding: 30px\">\n",
    "Good morning,<br/><br/>\n",
    "\n",
    "I need to get familiar with the <span style=\"background-color:#85e468;padding: 0 5px 2px;padding-right:5px;line-height:1em\">patients</span> and <span style=\"background-color:#486ce3;color:white;padding: 0 5px 2px;padding-right:5px;line-height:1em\">payers</span> data we have. Can you please send me a **random sample of three patients**, as well as **the first three payers** in the payers dataframe?\n",
    "\n",
    "See you at lunch!\n",
    "\n",
    "**Jenevive**<br/>\n",
    "Data analyst</div>"
   ]
  },
  {
   "cell_type": "markdown",
   "metadata": {},
   "source": [
    "* <acronym title='To generate a random sample of rows, we use the function Dataframe.sample(n) where n is the number of rows. To return the first n rows of a Dataframe, we use the head function: Dataframe.head(n). Likewise, use Dataframe.tail(n) to return the last n rows.'>HINT</acronym>"
   ]
  },
  {
   "cell_type": "markdown",
   "metadata": {},
   "source": [
    "Write your answer here:"
   ]
  },
  {
   "cell_type": "code",
   "execution_count": null,
   "metadata": {},
   "outputs": [],
   "source": []
  },
  {
   "cell_type": "markdown",
   "metadata": {},
   "source": [
    "---"
   ]
  },
  {
   "cell_type": "markdown",
   "metadata": {},
   "source": [
    "## Exercise 4: Columns/Variables in the Patients dataframe"
   ]
  },
  {
   "cell_type": "markdown",
   "metadata": {},
   "source": [
    "![](https://i.ibb.co/zFwqyyX/email.png) **New email received**\n",
    "\n",
    "<div style=\"border: dashed 3px red; border-left: solid 6px red; padding: 30px\">\n",
    "Hi,<br/><br/>\n",
    "\n",
    "Could you provide a **list of all the column names** in the <span style=\"background-color:#85e468;padding: 0 5px 2px;padding-right:5px;line-height:1em\">patients</span> dataframe, along with a **total count** of the columns? We need this information to evaluate whether we have too many variables in our patient records.\n",
    "\n",
    "**Samson**<br/>\n",
    "Privacy officer</div>"
   ]
  },
  {
   "cell_type": "markdown",
   "metadata": {},
   "source": [
    "* <acronym title=\"The function Dataframe.info() gives you info on a dataframe's shape (how many rows & columns, just like the Dataframe.shape function), and also a snapshot of the variables, how many null values they have, and their type. Alternatively, if you use the list(Dataframe) function on a Dataframe, it lists the names of the columns in that Dataframe. Then you can simply use the length len(Dataframe) function to count how many columns are in that list.\">HINT</acronym>"
   ]
  },
  {
   "cell_type": "markdown",
   "metadata": {},
   "source": [
    "Write your answer here:"
   ]
  },
  {
   "cell_type": "code",
   "execution_count": null,
   "metadata": {},
   "outputs": [],
   "source": []
  },
  {
   "cell_type": "markdown",
   "metadata": {},
   "source": [
    "---"
   ]
  },
  {
   "cell_type": "markdown",
   "metadata": {},
   "source": [
    "## Exercise 5: Lists of latitudes and longitudes"
   ]
  },
  {
   "cell_type": "markdown",
   "metadata": {},
   "source": [
    "![](https://i.ibb.co/zFwqyyX/email.png) **New email received**\n",
    "\n",
    "<div style=\"border: dashed 3px red; border-left: solid 6px red; padding: 30px\">\n",
    "Hello,<br/><br/>\n",
    "\n",
    "I'm trying to create a map showing where our <span style=\"background-color:#85e468;padding: 0 5px 2px;padding-right:5px;line-height:1em\">patients</span> reside. Can you please send me **two separate series**, one for **latitudes** and one for **longitudes**?\n",
    "\n",
    "**Dan**<br/>\n",
    "Market research analyst</div>"
   ]
  },
  {
   "cell_type": "markdown",
   "metadata": {},
   "source": [
    "* <acronym title=\"In Pandas, a column can be seen as a one-dimensional array of data, or a Series. To single out a series from a Dataframe, the syntax can either be Dataframe['Series'] (using the column name as an index) or DataFrame.Series (called attribute notation). In this Notebook, we will stick with the first syntax, because it can be used to create new columns, like Dataframe['NewColumn'] = ...,  while the second cannot. Remember this syntax because we will need it to do calculations on any given series.\">HINT</acronym>"
   ]
  },
  {
   "cell_type": "markdown",
   "metadata": {},
   "source": [
    "Write your answer here:"
   ]
  },
  {
   "cell_type": "code",
   "execution_count": null,
   "metadata": {},
   "outputs": [],
   "source": []
  },
  {
   "cell_type": "markdown",
   "metadata": {},
   "source": [
    "---"
   ]
  },
  {
   "cell_type": "markdown",
   "metadata": {},
   "source": [
    "## Exercise 6: Unique cities where patients reside"
   ]
  },
  {
   "cell_type": "markdown",
   "metadata": {},
   "source": [
    "![](https://i.ibb.co/zFwqyyX/email.png) **New email received**\n",
    "\n",
    "<div style=\"border: dashed 3px red; border-left: solid 6px red; padding: 30px\">\n",
    "Hi again,<br/><br/>\n",
    "\n",
    "Thanks for the `LAT` & `LON` lists! Can you please send me a **list of the cities** where our <span style=\"background-color:#85e468;padding: 0 5px 2px;padding-right:5px;line-height:1em\">patients</span> reside **without duplicates**?\n",
    "\n",
    "**Dan**<br/>\n",
    "Market research analyst</div>"
   ]
  },
  {
   "cell_type": "markdown",
   "metadata": {},
   "source": [
    "* <acronym title='Use the Series.unique() function to get an array of its unique non-duplicated values.'>HINT</acronym>"
   ]
  },
  {
   "cell_type": "markdown",
   "metadata": {},
   "source": [
    "Write your answer here:"
   ]
  },
  {
   "cell_type": "code",
   "execution_count": null,
   "metadata": {},
   "outputs": [],
   "source": []
  },
  {
   "cell_type": "markdown",
   "metadata": {},
   "source": [
    "---"
   ]
  },
  {
   "cell_type": "markdown",
   "metadata": {},
   "source": [
    "## Exercise 7: Average, maximum, and minimum base encounter cost"
   ]
  },
  {
   "cell_type": "markdown",
   "metadata": {},
   "source": [
    "![](https://i.ibb.co/zFwqyyX/email.png) **New email received**\n",
    "\n",
    "<div style=\"border: dashed 3px red; border-left: solid 6px red; padding: 30px\">\n",
    "Hi,<br/><br/>\n",
    "\n",
    "Can you please help me calculate the **average encounter base cost** from the <span style=\"background-color:#e45151;color:white;padding: 0 5px 2px;padding-right:5px;line-height:1em\">encounters</span> data? Also give me the **minimum** and **maximum** base encounter costs on record. Thank you in advance.\n",
    "\n",
    "\n",
    "**Marla**<br/>\n",
    "Accountant</div>"
   ]
  },
  {
   "cell_type": "markdown",
   "metadata": {},
   "source": [
    "* <acronym title='The .mean(), .max(), and .min() functions can be applied directly to Series.'>HINT</acronym>"
   ]
  },
  {
   "cell_type": "markdown",
   "metadata": {},
   "source": [
    "Write your answer here:"
   ]
  },
  {
   "cell_type": "code",
   "execution_count": null,
   "metadata": {},
   "outputs": [],
   "source": []
  },
  {
   "cell_type": "markdown",
   "metadata": {},
   "source": [
    "---"
   ]
  },
  {
   "cell_type": "markdown",
   "metadata": {},
   "source": [
    "## Exercise 8: Single male patients in Norfolk County"
   ]
  },
  {
   "cell_type": "markdown",
   "metadata": {},
   "source": [
    "![](https://i.ibb.co/zFwqyyX/email.png) **New email received**\n",
    "\n",
    "<div style=\"border: dashed 3px red; border-left: solid 6px red; padding: 30px\">\n",
    "Hello,<br/><br/>\n",
    "\n",
    "Can you please help me figure out how many **single male** <span style=\"background-color:#85e468;padding: 0 5px 2px;padding-right:5px;line-height:1em\">patients</span> we have that live in **Norfolk County**? I'm not looking for a boyfriend or anything, this is for a mental health study about male loneliness :D\n",
    "\n",
    "**Jenevive**<br/>\n",
    "Data analyst</div>"
   ]
  },
  {
   "cell_type": "markdown",
   "metadata": {},
   "source": [
    "* <acronym title=\"To filter a Dataframe by a condition, we use the syntax Dataframe[Condition]. Here, the Condition is having a Series equal a Value. So the Condition would be Dataframe['Series'] == Value. The full syntax should be Dataframe[Dataframe['Series'] == Value]. Doing this, we get a filtered Dataframe that only shows rows that fullfill the Condition. You can string multiple conditions together using the bitwise operator '&' for 'and', '|' for 'or', and '~' for 'not'.\">HINT</acronym>"
   ]
  },
  {
   "cell_type": "markdown",
   "metadata": {},
   "source": [
    "Write your answer here:"
   ]
  },
  {
   "cell_type": "code",
   "execution_count": null,
   "metadata": {},
   "outputs": [],
   "source": []
  },
  {
   "cell_type": "markdown",
   "metadata": {},
   "source": [
    "---"
   ]
  },
  {
   "cell_type": "markdown",
   "metadata": {},
   "source": [
    "## Exercise 9: Marital status count and proportions"
   ]
  },
  {
   "cell_type": "markdown",
   "metadata": {},
   "source": [
    "![](https://i.ibb.co/zFwqyyX/email.png) **New email received**\n",
    "\n",
    "<div style=\"border: dashed 3px red; border-left: solid 6px red; padding: 30px\">\n",
    "Hi again,<br/><br/>\n",
    "\n",
    "Speaking of marital status, can you give me a **count** of how many single vs married <span style=\"background-color:#85e468;padding: 0 5px 2px;padding-right:5px;line-height:1em\">patients</span> we have? I'll also need their **proportions** or percentages. Don't forget to take into consideration patients who are missing this info!\n",
    "\n",
    "**Jenevive**<br/>\n",
    "Data analyst</div>"
   ]
  },
  {
   "cell_type": "markdown",
   "metadata": {},
   "source": [
    "* <acronym title=\"To count the number of occurrences in a series, use the .value_counts() function. The function has two useful parameters: .value_counts(dropna=False) will count even the null values, and .value_counts(normalize=True) will give proportions instead of counts.\">HINT</acronym>"
   ]
  },
  {
   "cell_type": "markdown",
   "metadata": {},
   "source": [
    "Write your answer here:"
   ]
  },
  {
   "cell_type": "code",
   "execution_count": null,
   "metadata": {},
   "outputs": [],
   "source": []
  },
  {
   "cell_type": "markdown",
   "metadata": {},
   "source": [
    "---"
   ]
  },
  {
   "cell_type": "markdown",
   "metadata": {},
   "source": [
    "## Exercise 10: Missing entry"
   ]
  },
  {
   "cell_type": "markdown",
   "metadata": {},
   "source": [
    "![](https://i.ibb.co/zFwqyyX/email.png) **New email received**\n",
    "\n",
    "<div style=\"border: dashed 3px red; border-left: solid 6px red; padding: 30px\">\n",
    "Hi again,<br/><br/>\n",
    "\n",
    "Thank you for the data on single patients! I noticed from your last email that one of the <span style=\"background-color:#85e468;padding: 0 5px 2px;padding-right:5px;line-height:1em\">patients</span> didn't have any marital info. Can you please send me the `PATIENT_ID` of the patient lacking the marital status so we can follow up with them?\n",
    "\n",
    "**Jenevive**<br/>\n",
    "Data analyst</div>"
   ]
  },
  {
   "cell_type": "markdown",
   "metadata": {},
   "source": [
    "* <acronym title=\"The function .isna() or .isnull() (isnull is just an alias of isna) can be used to check if a value is Null or NaN. If it is passed as a condition: Dataframe[Dataframe['Series'].isna()], it will return a dataframe with all the rows that have a Null value for that column.\">HINT</acronym>"
   ]
  },
  {
   "cell_type": "markdown",
   "metadata": {},
   "source": [
    "Write your answer here:"
   ]
  },
  {
   "cell_type": "code",
   "execution_count": null,
   "metadata": {},
   "outputs": [],
   "source": []
  },
  {
   "cell_type": "markdown",
   "metadata": {},
   "source": [
    "---"
   ]
  },
  {
   "cell_type": "markdown",
   "metadata": {},
   "source": [
    "## Exercise 11: Race and ethnicity pivot table"
   ]
  },
  {
   "cell_type": "markdown",
   "metadata": {},
   "source": [
    "![](https://i.ibb.co/zFwqyyX/email.png) **New email received**\n",
    "\n",
    "<div style=\"border: dashed 3px red; border-left: solid 6px red; padding: 30px\">\n",
    "Hi,<br/><br/>\n",
    "\n",
    "Do you happen to know **how many** <span style=\"background-color:#85e468;padding: 0 5px 2px;padding-right:5px;line-height:1em\">patients</span> we have served **for each combination of the `RACE` and `ETHNICITY`** variables? If you can display it in a **pivot table**, that would be great. This info is useful because we need to ensure equitable access to health care across the board.\n",
    "\n",
    "**Zoey**<br/>\n",
    "CEO</div>"
   ]
  },
  {
   "cell_type": "markdown",
   "metadata": {},
   "source": [
    "The expected result looks like this:\n",
    "\n",
    "<pre>\n",
    "RACE\t             asian\tblack\thawaiian    native\tother\twhite\n",
    "ETHNICITY\n",
    "    \n",
    "hispanic\t       14\t   49\t    2\t       3\t   4\t  119\n",
    "nonhispanic\t       77\t  114\t   11\t       8\t  12\t  561\n",
    "</pre>"
   ]
  },
  {
   "cell_type": "markdown",
   "metadata": {},
   "source": [
    "* <acronym title=\"The syntax for a pivot table is Dataframe.pivot_table(Dataframe, index='Series1', columns='Series2', aggfunc='size'). The aggfunc parameter can be any function we want, but here we just need the frequency or count. Alternatively, since both RACE and ETHNICITY are categorical variables, we can use the crosstab function like this: pd.crosstab(Dataframe['Series1'], Dataframe['Series2']). Crosstab can only do frequencies, and no other functions, unlike pivot_table. Also, note that it's a function of Pandas, hence the pd.crosstab(), and not a dataframe method like .pivot_table().\">HINT</acronym>"
   ]
  },
  {
   "cell_type": "markdown",
   "metadata": {},
   "source": [
    "Write your answer here:"
   ]
  },
  {
   "cell_type": "code",
   "execution_count": null,
   "metadata": {},
   "outputs": [],
   "source": []
  },
  {
   "cell_type": "markdown",
   "metadata": {},
   "source": [
    "---"
   ]
  },
  {
   "cell_type": "markdown",
   "metadata": {},
   "source": [
    "## Exercise 12: Birthday of patients"
   ]
  },
  {
   "cell_type": "markdown",
   "metadata": {},
   "source": [
    "![](https://i.ibb.co/zFwqyyX/email.png) **New email received**\n",
    "\n",
    "<div style=\"border: dashed 3px red; border-left: solid 6px red; padding: 30px\">\n",
    "Good afternoon,<br/><br/>\n",
    "\n",
    "Do we have any <span style=\"background-color:#85e468;padding: 0 5px 2px;padding-right:5px;line-height:1em\">patients</span> who are celebrating their **birthday on March 15**? If so, can you please send me a sheet with their `PATIENT_ID`, **full name** (new column), and `BIRTH_DATE`.\n",
    "\n",
    "Thanks!\n",
    "\n",
    "**Martha**<br/>\n",
    "Patient outreach officer</div>"
   ]
  },
  {
   "cell_type": "markdown",
   "metadata": {},
   "source": [
    "The correct result should look like this:\n",
    "<pre>\n",
    "\tPATIENT_ID\t                                FULL_NAME\t         BIRTH_DATE\n",
    "231\t381e16cd-86c8-d369-cd76-2dd9e0b5faf5\tFredrick Gutmann\t 1939-03-15\n",
    "593\t358775ff-7a45-d881-7a3d-e26b06732f1a\tWm Morar\t         1964-03-15\n",
    "626\tf39ec5de-b029-c6d4-2738-696ecab81a79\tWill Hintz\t         1990-03-15\n",
    "969\td684571e-a784-ef61-429e-06fa0d2b1637\tChris Fisher             1924-03-15\n",
    "</pre>"
   ]
  },
  {
   "cell_type": "markdown",
   "metadata": {},
   "source": [
    "* <acronym title=\"Before working with a Series that contains dates and times, it's important to ensure that the Series is correctly recognized as a datetime type. This can be done using the pandas function .to_datetime() like this: Series = pd.to_datetime(Series). Then, we can perform date-related operations like extracting components (e.g., year, month, day) like this: Series.dt.day, Series.dt.month, or Series.dt.year. Lastly, we can concatenate two Series into one using the + operator (if they are both strings), but don't forget to add a space in between.\">HINT</acronym>"
   ]
  },
  {
   "cell_type": "markdown",
   "metadata": {},
   "source": [
    "Write your answer here:"
   ]
  },
  {
   "cell_type": "code",
   "execution_count": null,
   "metadata": {},
   "outputs": [],
   "source": []
  },
  {
   "cell_type": "markdown",
   "metadata": {},
   "source": [
    "---"
   ]
  },
  {
   "cell_type": "markdown",
   "metadata": {},
   "source": [
    "## Exercise 13: Patients with the initials A.C."
   ]
  },
  {
   "cell_type": "markdown",
   "metadata": {},
   "source": [
    "![](https://i.ibb.co/zFwqyyX/email.png) **New email received**\n",
    "\n",
    "<div style=\"border: dashed 3px red; border-left: solid 6px red; padding: 30px\">\n",
    "Hi,<br/><br/>\n",
    "\n",
    "I'm looking for a patient with the **initials A. C.**, but I don't know anything else about them. Can you retrieve all the <span style=\"background-color:#85e468;padding: 0 5px 2px;padding-right:5px;line-height:1em\">patients</span> that have these initials?\n",
    "\n",
    "**Jenevive**<br/>\n",
    "Data analyst</div>"
   ]
  },
  {
   "cell_type": "markdown",
   "metadata": {},
   "source": [
    "The correct answer should show 4 patients: Argentina Corwin, Anthony Cronin, Armando Carrasquillo, and Arturo Cuellar."
   ]
  },
  {
   "cell_type": "markdown",
   "metadata": {},
   "source": [
    "* <acronym title=\"Like datetime series that have the accessor .dt, string series have the accessor .str. It comes with many useful functions like .str.startswith().\">HINT</acronym>"
   ]
  },
  {
   "cell_type": "markdown",
   "metadata": {},
   "source": [
    "Write your answer here:"
   ]
  },
  {
   "cell_type": "code",
   "execution_count": null,
   "metadata": {},
   "outputs": [],
   "source": []
  },
  {
   "cell_type": "markdown",
   "metadata": {},
   "source": [
    "---"
   ]
  },
  {
   "cell_type": "markdown",
   "metadata": {},
   "source": [
    "## Exercise 14: Patients from Germany"
   ]
  },
  {
   "cell_type": "markdown",
   "metadata": {},
   "source": [
    "![](https://i.ibb.co/zFwqyyX/email.png) **New email received**\n",
    "\n",
    "<div style=\"border: dashed 3px red; border-left: solid 6px red; padding: 30px\">\n",
    "Good morning,<br/><br/>\n",
    "\n",
    "I'm looking for <span style=\"background-color:#85e468;padding: 0 5px 2px;padding-right:5px;line-height:1em\">patients</span> that were born in Germany. The `BIRTHPLACE` column ends with an alpha-2 code that denotes the country of birth. The code for Germany is **DE**. I hope this is helpful.\n",
    "\n",
    "**Dan**<br/>\n",
    "Market research analyst</div>"
   ]
  },
  {
   "cell_type": "markdown",
   "metadata": {},
   "source": [
    "* <acronym title=\"Just like .str.startswith() that we used in the last exercise, we can use .str.endswith().\">HINT</acronym>"
   ]
  },
  {
   "cell_type": "markdown",
   "metadata": {},
   "source": [
    "The correct answer should show three patients: Ike Becker, Lawerence Vandervort, and Terresa Nader."
   ]
  },
  {
   "cell_type": "markdown",
   "metadata": {},
   "source": [
    "Write your answer here:"
   ]
  },
  {
   "cell_type": "code",
   "execution_count": null,
   "metadata": {},
   "outputs": [],
   "source": []
  },
  {
   "cell_type": "markdown",
   "metadata": {},
   "source": [
    "---"
   ]
  },
  {
   "cell_type": "markdown",
   "metadata": {},
   "source": [
    "## Exercise 15: Countries of birth"
   ]
  },
  {
   "cell_type": "markdown",
   "metadata": {},
   "source": [
    "![](https://i.ibb.co/zFwqyyX/email.png) **New email received**\n",
    "\n",
    "<div style=\"border: dashed 3px red; border-left: solid 6px red; padding: 30px\">\n",
    "Hi again,<br/><br/>\n",
    "\n",
    "Thank you for the info on the German patients. Can you provide a breakdown of the **8 countries** where most of our <span style=\"background-color:#85e468;padding: 0 5px 2px;padding-right:5px;line-height:1em\">patients</span> were born?\n",
    "\n",
    "**Dan**<br/>\n",
    "Market research analyst</div>"
   ]
  },
  {
   "cell_type": "markdown",
   "metadata": {},
   "source": [
    "The correct result should look like this:\n",
    "\n",
    "<pre>\n",
    "    BIRTH_COUNTRY\n",
    "US    845\n",
    "DM     17\n",
    "MX     16\n",
    "PR     13\n",
    "CO      9\n",
    "CN      8\n",
    "VN      7\n",
    "HT      5\n",
    "</pre>"
   ]
  },
  {
   "cell_type": "markdown",
   "metadata": {},
   "source": [
    "* <acronym title=\"In this exercise, we'll need to do some slicing and dicing. If we look at the BIRTHPLACE column, the country code always comes last. So we can split the string at the spaces, and take the last part. We can do that using .str.split() and .str[index], knowing that the last index in Python can be referred to by -1. After putting the country codes in their own new column, we can then use .groupby().size() to group the data using that column.\">HINT</acronym>"
   ]
  },
  {
   "cell_type": "markdown",
   "metadata": {},
   "source": [
    "Write your answer here:"
   ]
  },
  {
   "cell_type": "code",
   "execution_count": null,
   "metadata": {},
   "outputs": [],
   "source": []
  },
  {
   "cell_type": "markdown",
   "metadata": {},
   "source": [
    "---"
   ]
  },
  {
   "cell_type": "markdown",
   "metadata": {},
   "source": [
    "## Exercise 16: Depression-related procedures"
   ]
  },
  {
   "cell_type": "markdown",
   "metadata": {},
   "source": [
    "![](https://i.ibb.co/zFwqyyX/email.png) **New email received**\n",
    "\n",
    "<div style=\"border: dashed 3px red; border-left: solid 6px red; padding: 30px\">\n",
    "Hi,<br/><br/>\n",
    "\n",
    "Do you happen to know how many <span style=\"background-color:#ca4fec;color:white;padding: 0 5px 2px;padding-right:5px;line-height:1em\">procedures</span> we have that are **related to depression**? Which one is the **most used**? \n",
    "\n",
    "The PHQ-2 (two-item questionnaire) is used to screen for depression, but after that, the patient needs to undergo the PHQ-9 (nice-item questionnaire) to gauge the severity of the depression. I'm afraid not many patients undergo PHQ-9 after their first initial screening. Can you please confirm this?\n",
    "\n",
    "**Barbara**<br/>\n",
    "Mental health specialist</div>"
   ]
  },
  {
   "cell_type": "markdown",
   "metadata": {},
   "source": [
    "The correct answer should look like this:\n",
    "\n",
    "<pre>\n",
    "    PROCEDURE_DESCRIPTION\n",
    "Depression screening                                                                   3804\n",
    "Depression screening using Patient Health Questionnaire Two-Item score (procedure)     3614\n",
    "Depression screening using Patient Health Questionnaire Nine Item score (procedure)     206\n",
    "</pre>"
   ]
  },
  {
   "cell_type": "markdown",
   "metadata": {},
   "source": [
    "* <acronym title=\"Another useful function we can use with the .str accessor is .contains(). We can use it to return rows where the condition of a string containing a sub-string is satisfied. By default, the function is case sensitive, unless we add the argument case=Fase. Attention: this function will not work if the series contains a null value.\">HINT</acronym>"
   ]
  },
  {
   "cell_type": "markdown",
   "metadata": {},
   "source": [
    "Write your answer here:"
   ]
  },
  {
   "cell_type": "code",
   "execution_count": null,
   "metadata": {},
   "outputs": [],
   "source": []
  },
  {
   "cell_type": "markdown",
   "metadata": {},
   "source": [
    "---"
   ]
  },
  {
   "cell_type": "markdown",
   "metadata": {},
   "source": [
    "## Exercise 17: Full addresses of payers"
   ]
  },
  {
   "cell_type": "markdown",
   "metadata": {},
   "source": [
    "![](https://i.ibb.co/zFwqyyX/email.png) **New email received**\n",
    "\n",
    "<div style=\"border: dashed 3px red; border-left: solid 6px red; padding: 30px\">\n",
    "Good morning,<br/><br/>\n",
    "\n",
    "Can you help me prepare the **full addresses** of <span style=\"background-color:#486ce3;color:white;padding: 0 5px 2px;padding-right:5px;line-height:1em\">payers</span> and health insurance companies? I need it for our printed newsletter. The format should be **Street address, City, State, Zip code**.\n",
    "\n",
    "**Barbara**<br/>\n",
    "PR and communications specialist</div>"
   ]
  },
  {
   "cell_type": "markdown",
   "metadata": {},
   "source": [
    "The correct answer should look like this:\n",
    "\n",
    "<pre>\n",
    "        PAYER_NAME              FULL_ADDRESS\n",
    "0\tDual Eligible           7500 Security Blvd, Baltimore, MD, 21244\n",
    "1\tMedicare                7500 Security Blvd, Baltimore, MD, 21244\n",
    "2\tMedicaid                7500 Security Blvd, Baltimore, MD, 21244\n",
    "3\tHumana                  500 West Main St, Louisville, KY, 40018\n",
    "4\tBlue Cross Blue Shield\tMichigan Plaza, Chicago, IL, 60007\n",
    "5\tUnitedHealthcare        9800 Healthcare Lane, Minnetonka, MN, 55436\n",
    "6\tAetna                   151 Farmington Ave, Hartford, CT, 6156\n",
    "7\tCigna Health            900 Cottage Grove Rd, Bloomfield, CT, 6002\n",
    "8\tAnthem                  220 Virginia Ave, Indianapolis, IN, 46204\n",
    "9\tNO_INSURANCE            NaN\n",
    "</pre>"
   ]
  },
  {
   "cell_type": "markdown",
   "metadata": {},
   "source": [
    "* <acronym title=\"There are many ways to concatenate a bunch of columns into a new one. We've done it before, but this time we have string and flot columns, so we need to convert them to strings before joining them together using +. That can be done with str(Series) or Series.astype(str).\">HINT</acronym>"
   ]
  },
  {
   "cell_type": "markdown",
   "metadata": {},
   "source": [
    "Write your answer here:"
   ]
  },
  {
   "cell_type": "code",
   "execution_count": null,
   "metadata": {},
   "outputs": [],
   "source": []
  },
  {
   "cell_type": "markdown",
   "metadata": {},
   "source": [
    "---"
   ]
  },
  {
   "cell_type": "markdown",
   "metadata": {},
   "source": [
    "## Exercise 18: Group by encounter class"
   ]
  },
  {
   "cell_type": "markdown",
   "metadata": {},
   "source": [
    "![](https://i.ibb.co/zFwqyyX/email.png) **New email received**\n",
    "\n",
    "<div style=\"border: dashed 3px red; border-left: solid 6px red; padding: 30px\">\n",
    "Hello,<br/><br/>\n",
    "\n",
    "Can you **group** the <span style=\"background-color:#e45151;color:white;padding: 0 5px 2px;padding-right:5px;line-height:1em\">encounters</span> by **`ENCOUNTER_CLASS`** and **count** how many encounters fall into each class? Also, in a separate dataframe, please **calculate the sum of the `TOTAL_CLAIM_COST`** for each class. Please make sure to sort the results in descending order (from big to small).\n",
    "\n",
    "Thanks!\n",
    "\n",
    "**Leo**<br/>\n",
    "Statistician</div>"
   ]
  },
  {
   "cell_type": "markdown",
   "metadata": {},
   "source": [
    "The correct answer should look like this:\n",
    "\n",
    "<pre>\n",
    "ENCOUNTER_CLASS\n",
    "ambulatory    12537\n",
    "outpatient     6300\n",
    "urgentcare     3666\n",
    "emergency      2322\n",
    "wellness       1931\n",
    "inpatient      1135\n",
    "\n",
    "ENCOUNTER_CLASS\n",
    "ambulatory    36283440.84\n",
    "urgentcare    23349349.96\n",
    "outpatient    14094967.12\n",
    "emergency     10750051.53\n",
    "inpatient      8809134.34\n",
    "wellness       8227431.73\n",
    "</pre>"
   ]
  },
  {
   "cell_type": "markdown",
   "metadata": {},
   "source": [
    "* <acronym title=\"As we've seen before, you can use .groupby().size() for frequency or count. To get the sums, we can use the .sum() function like this Dataframe.groupby(Series1)[Series2].sum(), Series2 being the series we want to apply the sum function to.\">HINT</acronym>"
   ]
  },
  {
   "cell_type": "markdown",
   "metadata": {},
   "source": [
    "Write your answer here:"
   ]
  },
  {
   "cell_type": "code",
   "execution_count": null,
   "metadata": {},
   "outputs": [],
   "source": []
  },
  {
   "cell_type": "markdown",
   "metadata": {},
   "source": [
    "---"
   ]
  },
  {
   "cell_type": "markdown",
   "metadata": {},
   "source": [
    "## Exercise 19: Group by encounter year"
   ]
  },
  {
   "cell_type": "markdown",
   "metadata": {},
   "source": [
    "![](https://i.ibb.co/zFwqyyX/email.png) **New email received**\n",
    "\n",
    "<div style=\"border: dashed 3px red; border-left: solid 6px red; padding: 30px\">\n",
    "Hi,<br/><br/>\n",
    "\n",
    "Wonderful, thank you! Can you please do the **same grouping** but using the **year** of the <span style=\"background-color:#e45151;color:white;padding: 0 5px 2px;padding-right:5px;line-height:1em\">encounters</span> instead of the class? I'll need the **count** as well as the **sum** of the `TOTAL_CLAIM_COST` for each year. In both instances, sort by year chronologically.\n",
    "\n",
    "**Leo**<br/>\n",
    "Statistician</div>"
   ]
  },
  {
   "cell_type": "markdown",
   "metadata": {},
   "source": [
    "The correct answer should look like this:\n",
    "\n",
    "<pre>\n",
    "YEAR\n",
    "2011    1336\n",
    "2012    2106\n",
    "2013    2495\n",
    "2014    3885\n",
    "2015    2469\n",
    "2016    2451\n",
    "2017    2360\n",
    "2018    2292\n",
    "2019    2228\n",
    "2020    2519\n",
    "2021    3530\n",
    "2022     220\n",
    "\n",
    "YEAR\n",
    "2011     4405936.73\n",
    "2012     9058314.10\n",
    "2013    10105272.87\n",
    "2014    12011662.17\n",
    "2015    10124652.89\n",
    "2016     8386701.12\n",
    "2017     9596894.47\n",
    "2018     8746818.37\n",
    "2019     8915338.78\n",
    "2020    10294077.96\n",
    "2021     9177232.00\n",
    "2022      691474.06  \n",
    "</pre>"
   ]
  },
  {
   "cell_type": "markdown",
   "metadata": {},
   "source": [
    "* <acronym title=\"First we need to convert to datetime type using pd.to_datetime(), then use the accessor .dt to extract the years and put them in their own column before applying .groupby().\">HINT</acronym>"
   ]
  },
  {
   "cell_type": "markdown",
   "metadata": {},
   "source": [
    "Write your answer here:"
   ]
  },
  {
   "cell_type": "code",
   "execution_count": null,
   "metadata": {},
   "outputs": [],
   "source": []
  },
  {
   "cell_type": "markdown",
   "metadata": {},
   "source": [
    "---"
   ]
  },
  {
   "cell_type": "markdown",
   "metadata": {},
   "source": [
    "## Exercise 19: Group by encounter year (cont.)"
   ]
  },
  {
   "cell_type": "markdown",
   "metadata": {},
   "source": [
    "![](https://i.ibb.co/zFwqyyX/email.png) **New email received**\n",
    "\n",
    "<div style=\"border: dashed 3px red; border-left: solid 6px red; padding: 30px\">\n",
    "Hi,<br/><br/>\n",
    "\n",
    "Thanks! I hate to ask, but can you please put the **count** and the **sum** calculations from the last email in their own columns in the same dataframe?\n",
    "\n",
    "**Leo**<br/>\n",
    "Statistician</div>"
   ]
  },
  {
   "cell_type": "markdown",
   "metadata": {},
   "source": [
    "The correct answer should look like this:\n",
    "\n",
    "<pre>\n",
    "        Count           Sum\n",
    "YEAR\t\t\n",
    "2011\t1336            4405936.73\n",
    "2012\t2106            9058314.10\n",
    "2013\t2495            10105272.87\n",
    "2014\t3885            12011662.17\n",
    "2015\t2469            10124652.89\n",
    "2016\t2451            8386701.12\n",
    "2017\t2360            9596894.47\n",
    "2018\t2292            8746818.37\n",
    "2019\t2228            8915338.78\n",
    "2020\t2519            10294077.96\n",
    "2021\t3530            9177232.00\n",
    "2022\t220             691474.06\n",
    "</pre>"
   ]
  },
  {
   "cell_type": "markdown",
   "metadata": {},
   "source": [
    "* <acronym title=\"The way we used .groupby() before, it returns a series, not a dataframe. We can use the .agg() function we've seen before to generate two columns, one with the frequency or count, and one with the sums. The syntax would be Dataframe.groupby(Series).agg(NewColumnName1=('Series1':'count'), NewColumnName2=('Series2':'sum')). Try to apply the count function on a column that has no null values like the ID column.\">HINT</acronym>"
   ]
  },
  {
   "cell_type": "markdown",
   "metadata": {},
   "source": [
    "Write your answer here:"
   ]
  },
  {
   "cell_type": "code",
   "execution_count": null,
   "metadata": {},
   "outputs": [],
   "source": []
  },
  {
   "cell_type": "markdown",
   "metadata": {},
   "source": [
    "---"
   ]
  },
  {
   "cell_type": "markdown",
   "metadata": {},
   "source": [
    "## Exercise 20: Group by encounters year and month"
   ]
  },
  {
   "cell_type": "markdown",
   "metadata": {},
   "source": [
    "![](https://i.ibb.co/zFwqyyX/email.png) **New email received**\n",
    "\n",
    "<div style=\"border: dashed 3px red; border-left: solid 6px red; padding: 30px\">\n",
    "Hi,<br/><br/>\n",
    "\n",
    "This is the last favor I'll ask and I'll get out of your hair (for today at least). I need to figure out the months that get very busy. Can you please **group** the <span style=\"background-color:#e45151;color:white;padding: 0 5px 2px;padding-right:5px;line-height:1em\">encounters</span> **count by year** and then **month**?\n",
    "\n",
    "**Leo**<br/>\n",
    "Statistician</div>"
   ]
  },
  {
   "cell_type": "markdown",
   "metadata": {},
   "source": [
    "The correct result should look like this:\n",
    "\n",
    "<pre>\n",
    "    \tYEAR\tMONTH\tEncounters Count\n",
    "0\t2011\t1\t86\n",
    "1\t2011\t2\t86\n",
    "2\t2011\t3\t129\n",
    "3\t2011\t4\t113\n",
    "4\t2011\t5\t131\n",
    "...\t...\t...\t...\n",
    "129\t2021\t10\t225\n",
    "130\t2021\t11\t267\n",
    "131\t2021\t12\t231\n",
    "132\t2022\t1\t219\n",
    "133\t2022\t2\t1\n",
    "    \n",
    "</pre>"
   ]
  },
  {
   "cell_type": "markdown",
   "metadata": {},
   "source": [
    "* <acronym title=\"We can group by multiple columns like this .groupby(['Series1', 'Series2']). After that, if we want to return a dataframe instead if a series, we can use the .reset_index() function, and even give a name to the column that shows the frequency or count by passing the argument name='ColumnName'.\">HINT</acronym>"
   ]
  },
  {
   "cell_type": "markdown",
   "metadata": {},
   "source": [
    "Write your answer here:"
   ]
  },
  {
   "cell_type": "code",
   "execution_count": null,
   "metadata": {},
   "outputs": [],
   "source": []
  },
  {
   "cell_type": "markdown",
   "metadata": {},
   "source": [
    "---"
   ]
  },
  {
   "cell_type": "markdown",
   "metadata": {},
   "source": [
    "## Exercise 21: COVID-19 cases"
   ]
  },
  {
   "cell_type": "markdown",
   "metadata": {},
   "source": [
    "![](https://i.ibb.co/zFwqyyX/email.png) **New email received**\n",
    "\n",
    "<div style=\"border: dashed 3px red; border-left: solid 6px red; padding: 30px\">\n",
    "Hi,<br/><br/>\n",
    "\n",
    "We are conducting a study about the effects of the COVID-19 pandemic. Can you please give me a breakdown of all the <span style=\"background-color:#e45151;color:white;padding: 0 5px 2px;padding-right:5px;line-height:1em\">encounters</span> related to COVID-19, **grouped by the description of the encounter**? I'm sure the `ENCOUNTER_REASON_DESCRIPTION` mentions 'COVID' whenever the case is COVID-19 related.\n",
    "\n",
    "**Jason**<br/>\n",
    "Director of clinical research</div>"
   ]
  },
  {
   "cell_type": "markdown",
   "metadata": {},
   "source": [
    "The correct answer should look like this:\n",
    "\n",
    "<pre>\n",
    "    \tENCOUNTER_DESCRIPTION\t                             COVID-19 Cases\n",
    "0\tAdmission to intensive care unit (procedure)            7\n",
    "1\tDeath Certification\t                                2\n",
    "2\tHospital admission for isolation (procedure)\t       17\n",
    "</pre>"
   ]
  },
  {
   "cell_type": "markdown",
   "metadata": {},
   "source": [
    "* <acronym title=\"Nothing new here, we'll be using the functions .isna(), .str.contains(), and .groupby().size().reset_index() like before.\">HINT</acronym>"
   ]
  },
  {
   "cell_type": "markdown",
   "metadata": {},
   "source": [
    "Write your answer here:"
   ]
  },
  {
   "cell_type": "code",
   "execution_count": null,
   "metadata": {},
   "outputs": [],
   "source": []
  },
  {
   "cell_type": "markdown",
   "metadata": {},
   "source": [
    "---"
   ]
  },
  {
   "cell_type": "markdown",
   "metadata": {},
   "source": [
    "## Exercise 22: COVID-19 ICU duration"
   ]
  },
  {
   "cell_type": "markdown",
   "metadata": {},
   "source": [
    "![](https://i.ibb.co/zFwqyyX/email.png) **New email received**\n",
    "\n",
    "<div style=\"border: dashed 3px red; border-left: solid 6px red; padding: 30px\">\n",
    "Hi again,<br/><br/>\n",
    "\n",
    "Thank you for that information. **For how long** did we care for the seven COVID-19 cases that were **admitted to the Intensive Care Unit** (ICU)?\n",
    "\n",
    "Please send me a dataframe with this structure, populated with data taken from the <span style=\"background-color:#e45151;color:white;padding: 0 5px 2px;padding-right:5px;line-height:1em\">encounters</span> dataframe:\n",
    "<style>\n",
    ".table_component {\n",
    "    overflow: auto;\n",
    "    width: 100%;\n",
    "}\n",
    "\n",
    ".table_component table {\n",
    "    border: 1px solid #000000;\n",
    "    height: 100%;\n",
    "    width: 100%;\n",
    "    table-layout: auto;\n",
    "    border-collapse: collapse;\n",
    "    border-spacing: 1px;\n",
    "    text-align: left;\n",
    "}\n",
    "\n",
    ".table_component caption {\n",
    "    caption-side: top;\n",
    "    text-align: left;\n",
    "}\n",
    "\n",
    ".table_component th {\n",
    "    border: 1px solid #dededf;\n",
    "    background-color: #eceff1;\n",
    "    color: #000000;\n",
    "    padding: 5px;\n",
    "}\n",
    "\n",
    ".table_component td {\n",
    "    border: 1px solid #dededf;\n",
    "    background-color: #ffffff;\n",
    "    color: #000000;\n",
    "    padding: 5px;\n",
    "}\n",
    "</style>\n",
    "<div class=\"table_component\" role=\"region\" tabindex=\"0\">\n",
    "<table>\n",
    "     <thead>\n",
    "        <tr>\n",
    "            <th>PATIENT_ID</th>\n",
    "            <th>\n",
    "                ENCOUNTER_DESCRIPTION\n",
    "            </th>\n",
    "            <th>ENCOUNTER_REASON_DESCRIPTION</th>\n",
    "            <th>DURATION_IN_DAYS</th>\n",
    "        </tr>\n",
    "    </thead>\n",
    "    <tbody>\n",
    "        <tr>\n",
    "            <td>\n",
    "                <div><b><br></b></div>\n",
    "            </td>\n",
    "            <td></td>\n",
    "            <td><br></td>\n",
    "            <td></td>\n",
    "        </tr>\n",
    "        <tr>\n",
    "            <td></td>\n",
    "            <td></td>\n",
    "            <td></td>\n",
    "            <td></td>\n",
    "        </tr>\n",
    "    </tbody>\n",
    "</table>\n",
    "\n",
    "**Jason**<br/>\n",
    "Director of clinical research</div>"
   ]
  },
  {
   "cell_type": "markdown",
   "metadata": {},
   "source": [
    "The correct answer should look like this:\n",
    "\n",
    "<pre>\n",
    "ENCOUNTER_START\t                ENCOUNTER_STOP\t          ENCOUNTER_DESCRIPTION ENCOUNTER_REASON_DESCRIPTION    DURATION\n",
    "23083\t2020-08-20 01:55:34+00:00 2020-08-29 08:25:58+00:00\tAdmission to intensive ...\tCOVID-19\t9 days 06:30:24\n",
    "23441\t2020-10-09 07:57:23+00:00 2020-10-15 10:41:30+00:00\tAdmission to intensive ...\tCOVID-19\t6 days 02:44:07\n",
    "23710\t2020-11-10 10:02:48+00:00 2020-11-15 18:07:47+00:00\tAdmission to intensive ...\tCOVID-19\t5 days 08:04:59\n",
    "23898\t2020-12-03 07:26:52+00:00 2020-12-08 04:21:35+00:00\tAdmission to intensive ...\tCOVID-19\t4 days 20:54:43\n",
    "24132\t2020-12-30 23:06:36+00:00 2021-01-03 04:45:25+00:00\tAdmission to intensive ...\tCOVID-19\t3 days 05:38:49\n",
    "24251\t2021-01-15 23:26:52+00:00 2021-01-22 22:42:01+00:00\tAdmission to intensive ...\tCOVID-19\t6 days 23:15:09\n",
    "24285\t2021-01-19 21:18:02+00:00 2021-01-28 05:46:41+00:00\tAdmission to intensive ...\tCOVID-19\t8 days 08:28:39\n",
    "</pre>"
   ]
  },
  {
   "cell_type": "markdown",
   "metadata": {},
   "source": [
    "* <acronym title=\"After converting the date and time columns to datetype type using pd.to_datetime(), we can then create a new column that contains the difference between the start and the stop like this: Series1 = Series2 - Series3\">HINT</acronym>"
   ]
  },
  {
   "cell_type": "markdown",
   "metadata": {},
   "source": [
    "Write your answer here:"
   ]
  },
  {
   "cell_type": "code",
   "execution_count": null,
   "metadata": {},
   "outputs": [],
   "source": []
  },
  {
   "cell_type": "markdown",
   "metadata": {},
   "source": [
    "---"
   ]
  },
  {
   "cell_type": "markdown",
   "metadata": {},
   "source": [
    "## Exercise 23: The five oldest living patients"
   ]
  },
  {
   "cell_type": "markdown",
   "metadata": {},
   "source": [
    "![](https://i.ibb.co/zFwqyyX/email.png) **New email received**\n",
    "\n",
    "<div style=\"border: dashed 3px red; border-left: solid 6px red; padding: 30px\">\n",
    "Hi,<br/><br/>\n",
    "\n",
    "I'm working on a survey for our senior <span style=\"background-color:#85e468;padding: 0 5px 2px;padding-right:5px;line-height:1em\">patients</span>. Can you please pull the data of the **five oldest (still living) patients** we have ever served? I'll need `PATIENT_ID`, `FIRST_NAME`, `LAST_NAME`, `BIRTH_DATE`, and Please **add an** `AGE` **column** to the result that displays the age in years.\n",
    "\n",
    "Thanks!\n",
    "\n",
    "**Martha**<br/>\n",
    "Patient outreach officer</div>"
   ]
  },
  {
   "cell_type": "markdown",
   "metadata": {},
   "source": [
    "The correct result should look like this (the AGE column values will be different based on the day you run this cell)\n",
    "\n",
    "<pre>\n",
    "\n",
    "    \tPATIENT_ID\t                        FIRST_NAME  LAST_NAME\tBIRTH_DATE         AGE\n",
    "868\tfc81fad8-86e1-4df2-0613-25019adf3e5d\tElwanda\t    Casper\t1922-03-24\t   102.335387\n",
    "547\tde1f6a21-bdd3-0ccd-8a3c-b06e98a13cf2\tLulu\t    Carter\t1922-03-30\t   102.318960\n",
    "859\td1629b63-3486-1537-a088-cd641d231e86\tLazaro\t    Osinski\t1922-04-13\t   102.280630\n",
    "876\tb2b5f8d2-9ba8-f517-5ce5-3f246a0eee52\tHorace\t    Cremin\t1922-04-15\t   102.275154\n",
    "553\tc6b2ae50-d8d6-014f-bfff-27afbeb2e1e8\tTrent\t    Graham\t1922-06-18\t   102.099932\n",
    "</pre>"
   ]
  },
  {
   "cell_type": "markdown",
   "metadata": {},
   "source": [
    "* <acronym title=\"To get today's date, you can use pd.to_datetime('today'). After the usual time subtraction using -, convert the result to days using .dt.days, then you can divide it by 365 to get the years, or 365.25 if you want to take into account leap years. \">HINT</acronym>"
   ]
  },
  {
   "cell_type": "markdown",
   "metadata": {},
   "source": [
    "Write you answer here:"
   ]
  },
  {
   "cell_type": "code",
   "execution_count": null,
   "metadata": {},
   "outputs": [],
   "source": []
  },
  {
   "cell_type": "markdown",
   "metadata": {},
   "source": [
    "---"
   ]
  },
  {
   "cell_type": "markdown",
   "metadata": {},
   "source": [
    "## Exercise 24: Age groups for patients"
   ]
  },
  {
   "cell_type": "markdown",
   "metadata": {},
   "source": [
    "![](https://i.ibb.co/zFwqyyX/email.png) **New email received**\n",
    "\n",
    "<div style=\"border: dashed 3px red; border-left: solid 6px red; padding: 30px\">\n",
    "Hi again,<br/><br/>\n",
    "\n",
    "Thank you for the senior patients list! \n",
    "\n",
    "I have another favor to ask. Can you please help me put the <span style=\"background-color:#85e468;padding: 0 5px 2px;padding-right:5px;line-height:1em\">patients</span> into **age groups** like this: 0-18, 19-35, 36-50, 51-70, and 71+? Give me a **count** of our patients under each group, as well as their **proportions** (or percentages). We tend to have more senior patients than young ones, and I want to confirm that with some data.\n",
    "\n",
    "**Martha**<br/>\n",
    "Patient outreach officer</div>"
   ]
  },
  {
   "cell_type": "markdown",
   "metadata": {},
   "source": [
    "The correct result should look like this (the values might change based on the date this cell is executed):\n",
    "\n",
    "<pre>\n",
    "AGE_GROUP\n",
    "0-18       0\n",
    "19-35     25\n",
    "36-50    164\n",
    "51-70    234\n",
    "71+      505\n",
    "\n",
    "AGE_GROUP\n",
    "0-18      0.000000\n",
    "19-35     2.566735\n",
    "36-50    16.837782\n",
    "51-70    24.024641\n",
    "71+      51.848049\n",
    "</pre>"
   ]
  },
  {
   "cell_type": "markdown",
   "metadata": {},
   "source": [
    "* <acronym title=\"To cut a series into bins, we use the Pandas function pd.cut(). The syntax is: Series1 = pd.cut(Series2, bins=[..], labels=[..]). The bins parameter is a list of values that describe where the cut should happen, and the label is a list of labels for each cut. Hint 1: we need to have 6 values in bins, and only 5 in labels. Hint 2: the last value in bins needs to take into account the biggest age, so it preferably should be a variable or function, not a hard value. Finally, while grouping by .size() is straightforward, you'll need a custom lambda function to calculate the proportions, which you'll be applying with the .apply() function.\">HINT</acronym>"
   ]
  },
  {
   "cell_type": "markdown",
   "metadata": {},
   "source": [
    "Write your answers here:"
   ]
  },
  {
   "cell_type": "code",
   "execution_count": null,
   "metadata": {},
   "outputs": [],
   "source": []
  },
  {
   "cell_type": "markdown",
   "metadata": {},
   "source": [
    "---"
   ]
  },
  {
   "cell_type": "markdown",
   "metadata": {},
   "source": [
    "## Exercise 25: Patient IDs in Patients & Encounters"
   ]
  },
  {
   "cell_type": "markdown",
   "metadata": {},
   "source": [
    "![](https://i.ibb.co/zFwqyyX/email.png) **New email received**\n",
    "\n",
    "<div style=\"border: dashed 3px red; border-left: solid 6px red; padding: 30px\">\n",
    "Good morning,<br/><br/>\n",
    "\n",
    "I need you to help me verify if all the patients we have on record have had an encounter at some point. In other words, check if all the **unique `PATIENT_ID`** values in <span style=\"background-color:#85e468;padding: 0 5px 2px;padding-right:5px;line-height:1em\">patients</span> **are present** in <span style=\"background-color:#e45151;color:white;padding: 0 5px 2px;padding-right:5px;line-height:1em\">encounters</span>, and **vice-versa**.\n",
    "\n",
    "**John**<br/>\n",
    "Data integrity officer</div>"
   ]
  },
  {
   "cell_type": "markdown",
   "metadata": {},
   "source": [
    "* <acronym title=\"You can pass a Series into a set() function like this: set(Series). This turns it into a set, which is a collection data type with only unique values. You can either compare two sets: set1 == set2 to make sure they hold the same unique values, or you can use set1.issubset(set2) to make sure all the values in set1 are present in set2, and the other way around, set2.issubset(set1). If both are True, then the sets are identical. \">HINT</acronym>"
   ]
  },
  {
   "cell_type": "markdown",
   "metadata": {},
   "source": [
    "Write your answer here:"
   ]
  },
  {
   "cell_type": "code",
   "execution_count": null,
   "metadata": {},
   "outputs": [],
   "source": []
  },
  {
   "cell_type": "markdown",
   "metadata": {},
   "source": [
    "---"
   ]
  },
  {
   "cell_type": "markdown",
   "metadata": {},
   "source": [
    "## Exercise 26: Patients with the initials A. C. (cont.)"
   ]
  },
  {
   "cell_type": "markdown",
   "metadata": {},
   "source": [
    "![](https://i.ibb.co/zFwqyyX/email.png) **New email received**\n",
    "\n",
    "<div style=\"border: dashed 3px red; border-left: solid 6px red; padding: 30px\">\n",
    "Hi,<br/><br/>\n",
    "\n",
    "Remember when you sent me the four <span style=\"background-color:#85e468;padding: 0 5px 2px;padding-right:5px;line-height:1em\">patients</span> with the initials A. C.; Argentina Corwin, Anthony Cronin, Armando Carrasquillo, and Arturo Cuellar? Now I have an additional clue about the patient I am looking for to narrow the search down: they only have **one single encounter** on record on the <span style=\"background-color:#e45151;color:white;padding: 0 5px 2px;padding-right:5px;line-height:1em\">encounters</span> dataframe. Can you help me find them? Thanks!\n",
    "\n",
    "**Jenevive**<br/>\n",
    "Data analyst</div>"
   ]
  },
  {
   "cell_type": "markdown",
   "metadata": {},
   "source": [
    "The correct answer should look like this:\n",
    "\n",
    "<pre>\n",
    "FIRST_NAME\n",
    "Anthony       1\n",
    "Argentina    28\n",
    "Armando      28\n",
    "Arturo        9\n",
    "</pre>"
   ]
  },
  {
   "cell_type": "markdown",
   "metadata": {},
   "source": [
    "* <acronym title=\"To merge two dataframes on a commun column, we use the Pandas function pd.merge(). The syntax is NewDataframe = pd.merge(Dataframe1, Dataframe2, on='CommonColumn'). Additionally, we can pass a how parameter that dictates what happens to the non-common rows on both sides, but since the last exercise showed the two dataframes patients and encounters sharing the exact same IDs, we don't need to worry about that now.\">HINT</acronym>"
   ]
  },
  {
   "cell_type": "markdown",
   "metadata": {},
   "source": [
    "Write your answer here:"
   ]
  },
  {
   "cell_type": "code",
   "execution_count": null,
   "metadata": {},
   "outputs": [],
   "source": []
  },
  {
   "cell_type": "markdown",
   "metadata": {},
   "source": [
    "---"
   ]
  },
  {
   "cell_type": "markdown",
   "metadata": {},
   "source": [
    "## Exercise 27: Best health insurance"
   ]
  },
  {
   "cell_type": "markdown",
   "metadata": {},
   "source": [
    "![](https://i.ibb.co/zFwqyyX/email.png) **New email received**\n",
    "\n",
    "<div style=\"border: dashed 3px red; border-left: solid 6px red; padding: 30px\">\n",
    "Greetings,<br/><br/>\n",
    "\n",
    "Could you assist me in creating a ranking of <span style=\"background-color:#486ce3;color:white;padding: 0 5px 2px;padding-right:5px;line-height:1em\">payers</span> and health insurance companies based on the quality of their coverage? The ranking should be based on two key metrics related to how well they pay for patient <span style=\"background-color:#e45151;color:white;padding: 0 5px 2px;padding-right:5px;line-height:1em\">encounters</span>:\n",
    "\n",
    "* The average percentage of costs they covered.\n",
    "* The number of times they refused to cover any portion of an encounter (0% coverage).\n",
    "\n",
    "\n",
    "**Marla**<br/>\n",
    "Accountant</div>"
   ]
  },
  {
   "cell_type": "markdown",
   "metadata": {},
   "source": [
    "The correct answer should look like this:\n",
    "\n",
    "<pre>\n",
    "    \n",
    "        PAYER_NAME              AVERAGE_PERCENTAGE  NUMBER_OF_REFUSALS\n",
    "6\tMedicaid                74.550858           0\n",
    "7\tMedicare                62.950728           0\n",
    "4\tDual Eligible           45.901624           123\n",
    "2\tBlue Cross Blue Shield  32.021687           336\n",
    "9\tUnitedHealthcare        2.613364            817\n",
    "5\tHumana                  1.255674            1036\n",
    "0\tAetna                   0.502589            898\n",
    "3\tCigna Health            0.201057            789\n",
    "8\tNO_INSURANCE            0.000000            8795\n",
    "1\tAnthem                  0.000000            703\n",
    "</pre>"
   ]
  },
  {
   "cell_type": "markdown",
   "metadata": {},
   "source": [
    "* <acronym title=\"After merging the payers and encounters dataframes using pd.merge(), you'll need to create a column 'AVERAGE_PERCENTAGE' that's basically the payer coverage divided by the total claim cost, multiplied by 100. There are many ways to do this, but I suggest you try the function Dataframe.eval(). Like .query(), it takes a string as input, and you can use the column names as variables. Lastly, we need to sort the values by both the average percentage AND the number of refusals, to get a ranking of the best payers.\">HINT</acronym>"
   ]
  },
  {
   "cell_type": "markdown",
   "metadata": {},
   "source": [
    "Write your answer here:"
   ]
  },
  {
   "cell_type": "code",
   "execution_count": null,
   "metadata": {},
   "outputs": [],
   "source": []
  },
  {
   "cell_type": "markdown",
   "metadata": {},
   "source": [
    "---"
   ]
  },
  {
   "cell_type": "markdown",
   "metadata": {},
   "source": [
    "## Exercise 28: The six most expensive procedures"
   ]
  },
  {
   "cell_type": "markdown",
   "metadata": {},
   "source": [
    "![](https://i.ibb.co/zFwqyyX/email.png) **New email received**\n",
    "\n",
    "<div style=\"border: dashed 3px red; border-left: solid 6px red; padding: 30px\">\n",
    "Hi,<br/><br/>\n",
    "\n",
    "Can you please help me figure out the **6 most expensive** <span style=\"background-color:#ca4fec;color:white;padding: 0 5px 2px;padding-right:5px;line-height:1em\">procedures</span>\n",
    " our hospital is providing? Give me the **procedure description**, the **base cost**, and the **reason** the procedure was necessary. The same procedure can have different base costs depending on multiple factors, so give me the most expensive base cost of each of the 6 most expensive procedure.\n",
    "\n",
    "**Zoey**<br/>\n",
    "CEO</div>"
   ]
  },
  {
   "cell_type": "markdown",
   "metadata": {},
   "source": [
    "The correct answer should look like this:\n",
    "\n",
    "<pre>\n",
    "    \tPROCEDURE_DESCRIPTION\t                    PROCEDURE_BASE_COST\t PROCEDURE_REASON_DESCRIPTION\n",
    "41089\tAdmit to ICU (procedure)\t                  289531\t Septic shock (disorder)\n",
    "37398\tCoronary artery bypass grafting\t                  67168\t         Myocardial Infarction\n",
    "39780\tElectrical cardioversion\t                  44532\t         Atrial Fibrillation\n",
    "26032\tPartial resection of colon\t                  38749\t         Malignant tumor of colon\n",
    "6499\tInsertion of biventricular implantable cardiov... 38711\t         Cardiac Arrest\n",
    "41268\tHemodialysis (procedure)\t                  37213\t         NaN\n",
    "</pre>"
   ]
  },
  {
   "cell_type": "markdown",
   "metadata": {},
   "source": [
    "* <acronym title=\"We want to group by the procedure descriptions and then select the row with the highest base cost for each procedure. To achieve this, you'll use the .idxmax() function. When appended after a .groupby() operation, where you might normally use .size() or .sum(), .idxmax() will return the index labels of the rows with the maximum value in each group. You can then use this output with the .loc[] function to retrieve those rows: DataFrame.loc[idxmax_output, ['column1', 'column2', ...]]. Similarly, you can use .idxmin() to select the rows with the lowest values.\">HINT</acronym>"
   ]
  },
  {
   "cell_type": "markdown",
   "metadata": {},
   "source": [
    "Write your answer here:"
   ]
  },
  {
   "cell_type": "code",
   "execution_count": null,
   "metadata": {},
   "outputs": [],
   "source": []
  },
  {
   "cell_type": "markdown",
   "metadata": {},
   "source": [
    "---"
   ]
  },
  {
   "cell_type": "markdown",
   "metadata": {},
   "source": [
    "## Exercise 29: Coronary Artery Bypass Grafting health coverage"
   ]
  },
  {
   "cell_type": "markdown",
   "metadata": {},
   "source": [
    "![](https://i.ibb.co/zFwqyyX/email.png) **New email received**\n",
    "\n",
    "<div style=\"border: dashed 3px red; border-left: solid 6px red; padding: 30px\">\n",
    "Hello,<br/><br/>\n",
    "\n",
    "I was tasked by Zoey, our CEO, to investigate the health coverage/insurance situation of the patients who underwent the **Coronary Artery Bypass Grafting (CABG) procedure**, one of the most expensive procedures we provide. We are working with our non-profit partners that promote cardiovascular health to help patients with no health insurance cover their costs.\n",
    "\n",
    "Can you please provide me with the **names** of the <span style=\"background-color:#85e468;padding: 0 5px 2px;padding-right:5px;line-height:1em\">patients</span>, the <span style=\"background-color:#ca4fec;color:white;padding: 0 5px 2px;padding-right:5px;line-height:1em\">procedure</span> **description**, the **total claim cost**, the <span style=\"background-color:#486ce3;color:white;padding: 0 5px 2px;padding-right:5px;line-height:1em\">payers</span>\n",
    " **name**, and the **payer coverage** for all <span style=\"background-color:#e45151;color:white;padding: 0 5px 2px;padding-right:5px;line-height:1em\">encounters</span> related to CABG? \n",
    " \n",
    " ps. The `PROCEDURE_CODE` for CABG is 232717009.\n",
    "\n",
    "**Martha**<br/>\n",
    "Patient outreach officer</div>"
   ]
  },
  {
   "cell_type": "markdown",
   "metadata": {},
   "source": [
    "The correct answer should look like this:\n",
    "\n",
    "<pre>\n",
    "\t   FIRST_NAME LAST_NAME   PROCEDURE_DESCRIPTION\t        TOTAL_CLAIM_COST  PAYER_NAME\tPAYER_COVERAGE\n",
    "18636\tJosiah\t Purdy        Coronary artery bypass grafting\t62625.44\tMedicare\t49961.53\n",
    "18706\tJay\t Collins      Coronary artery bypass grafting\t100055.91\tMedicare\t79953.92\n",
    "26242\tMariano\t O'Kon\t      Coronary artery bypass grafting\t1244.21\t        NO_INSURANCE\t0.00\n",
    "30620\tIgnacio\t Hermiston    Coronary artery bypass grafting\t78693.97\tAnthem\t        0.00\n",
    "31543\tLorenzo\t Prieto\t      Coronary artery bypass grafting\t59785.85\tNO_INSURANCE\t0.00\n",
    "31892\tIgnacio\t Hermiston    Coronary artery bypass grafting\t47448.53\tNO_INSURANCE\t0.00\n",
    "35419\tGarfield Block        Coronary artery bypass grafting\t43978.19\tMedicare\t35086.55\n",
    "36440\tJunior\t Padberg      Coronary artery bypass grafting\t52689.25\tMedicaid\t49883.79\n",
    "37398\tElvis\t Hackett      Coronary artery bypass grafting\t85905.65\tMedicare\t68642.02\n",
    "</pre>"
   ]
  },
  {
   "cell_type": "markdown",
   "metadata": {},
   "source": [
    "* <acronym title=\"This is just an exercise on merging 4 dataframes. You already know everything you need to solve it. You can merge the dataframes two by two to make it easier.\">HINT</acronym>"
   ]
  },
  {
   "cell_type": "markdown",
   "metadata": {},
   "source": [
    "Write your answer here:"
   ]
  },
  {
   "cell_type": "code",
   "execution_count": null,
   "metadata": {},
   "outputs": [],
   "source": []
  },
  {
   "cell_type": "markdown",
   "metadata": {},
   "source": [
    "---"
   ]
  },
  {
   "cell_type": "markdown",
   "metadata": {},
   "source": [
    "## Exercise 30: Deaths after complicated procedures"
   ]
  },
  {
   "cell_type": "markdown",
   "metadata": {},
   "source": [
    "![](https://i.ibb.co/zFwqyyX/email.png) **New email received**\n",
    "\n",
    "<div style=\"border: dashed 3px red; border-left: solid 6px red; padding: 30px\">\n",
    "Hi,<br/><br/>\n",
    "\n",
    "Can you please help me research the <span style=\"background-color:#e45151;color:white;padding: 0 5px 2px;padding-right:5px;line-height:1em\">encounters</span> where <span style=\"background-color:#85e468;padding: 0 5px 2px;padding-right:5px;line-height:1em\">patients</span> died shortly before, during or after complicated encounters?\n",
    "\n",
    "In our standards, we adopt a **30-day mortality metric** when it comes to heart problems; meaning if a patient dies within 30 days before or after a heart-related encounter, the mortality is attributed to complications from that encounter. For cancers, the metric is **90 days**. For all other medical encounters, you can safely use a **10-day metric**.\n",
    "\n",
    "To help you out, these are keywords related to heart disease and cancers that you may use to filter the **encounters descriptions** and the **encounters reason descriptions**: \n",
    "\n",
    "<br/>**Heart disease**: `heart failure`, `cardiac arrest`, `stroke`, `coronary`, `atrial fibrillation`, `myocardial infarction`, `thrombectomy`\n",
    "<br/>**Cancer**: `cancer`, `carcinoma`, `malignant tumor`, `neoplasm`, `chemotherapy`\n",
    "\n",
    "Remember that each patient has multiple encounters on file, so you want to concentrate on the last encounter closer to their `DEATH_DATE`.\n",
    "\n",
    "Please send me three separate dataframes like this, one for each of the three death causes (Hearth, Cancer, and Else):\n",
    "\n",
    "<div class=\"table_component\" role=\"region\" tabindex=\"0\">\n",
    "<table>\n",
    "    <caption>\n",
    "    </caption>\n",
    "    <thead>\n",
    "        <tr>\n",
    "            <th>FIRST_NAME</th>\n",
    "            <th>\n",
    "                LAST_NAME\n",
    "            </th>\n",
    "            <th>ENCOUNTER_STOP</th>\n",
    "            <th>DEATH_DATE</th>\n",
    "            <th>DEATH_MARGIN</th>\n",
    "            <th>ENCOUNTER_DESCRIPTION</th>\n",
    "            <th>ENCOUNTER_REASON_DESCRIPTION</th>\n",
    "            <th>CAUSE</th>\n",
    "        </tr>\n",
    "    </thead>\n",
    "    <tbody>\n",
    "        <tr>\n",
    "            <td>\n",
    "                <div>...</div>\n",
    "            </td>\n",
    "            <td>...</td>\n",
    "            <td>...</td>\n",
    "            <td>...</td>\n",
    "            <td>...</td>\n",
    "            <td>...</td>\n",
    "            <td>...</td>\n",
    "            <td>...</td>\n",
    "        </tr>\n",
    "    </tbody>\n",
    "</table>\n",
    "</div>\n",
    "\n",
    "`DEATH_MARGIN` is the number of days between `ENCOUNTER_STOP` and `DEATH_DATE` (could be positive or negative, so use the absolute value when filtering).\n",
    "\n",
    "Thanks!\n",
    "\n",
    "**Jason**<br/>\n",
    "Director of clinical research</div>"
   ]
  },
  {
   "cell_type": "markdown",
   "metadata": {},
   "source": [
    "The correct answer should look like this:\n",
    "\n",
    "* For Heart disease, the first 3 columns are of patients Wilmer Blanda (8 days before), Gaston Schneider (6 days after), and Jay Collins (8 days before).\n",
    "* For Cancers, the first 3 columns are of patients Olin Kerluke, Ike Becker, and Kurtis Bartell, all died 7 days before the end of the last encounter.\n",
    "* For other causes, the first 3 columns are of patients Corrin Heaney (9 days after), Cory Smitham (1 day before), and Leana Boyer (5 days after).\t\n"
   ]
  },
  {
   "cell_type": "markdown",
   "metadata": {},
   "source": [
    "* <acronym title=\"To solve this exercise, we want to search for keywords in two string columns: ENCOUNTER_DESCRIPTION and ENCOUNTER_REASON_DESCRIPTION. We could use the .str accessor with the .contains() function, but there is an easier way: set up two lists of keywords, one for heart and one for cancer. Define a function that combines the two descriptions into one combined string, and then uses a 'for' loop that returns 'Heart' when any term in the heart list is in the combined description, likewise for 'Cancer', and finally returns 'Else' if neither of these conditions is true. Apply that function to a new column like this Dataframe['NewColumn'] = Dataframe.apply(MyFunction, axis=1). ATTENTION: ENCOUNTER_REASON_DESCRIPTION has null values sometimes, so this needs to be addressed before proceeding with the previous operation. This exercise also requires the use of datetime methods, .groupby(), .idxmax(), .loc, and .abs(). Bonus points if you use .query() as well.\">HINT</acronym>"
   ]
  },
  {
   "cell_type": "markdown",
   "metadata": {},
   "source": [
    "Write your answer here:"
   ]
  },
  {
   "cell_type": "markdown",
   "metadata": {},
   "source": [
    "* Heart disease deaths:"
   ]
  },
  {
   "cell_type": "code",
   "execution_count": null,
   "metadata": {},
   "outputs": [],
   "source": []
  },
  {
   "cell_type": "markdown",
   "metadata": {},
   "source": [
    "---"
   ]
  },
  {
   "cell_type": "markdown",
   "metadata": {},
   "source": [
    "## Conclusion:"
   ]
  },
  {
   "cell_type": "markdown",
   "metadata": {},
   "source": [
    "I hope you enjoyed these exercises! If you learned something new, please leave a comment and share your thoughts on my [Medium article here](). I'd love to hear any creative solutions you came up with - if you have a unique approach, I might feature it in the article with a shoutout to you. \n",
    "\n",
    "If you're looking for more advanced challenges, I might create some in a future article. Next, I may work on the SQL equivalent of these exercises, or data visualization exercises. Let me know in the comments what you want to see next. \n",
    "\n",
    "Stay tuned for more!"
   ]
  }
 ],
 "metadata": {
  "kernelspec": {
   "display_name": "Python 3 (ipykernel)",
   "language": "python",
   "name": "python3"
  },
  "language_info": {
   "codemirror_mode": {
    "name": "ipython",
    "version": 3
   },
   "file_extension": ".py",
   "mimetype": "text/x-python",
   "name": "python",
   "nbconvert_exporter": "python",
   "pygments_lexer": "ipython3",
   "version": "3.11.7"
  }
 },
 "nbformat": 4,
 "nbformat_minor": 4
}
